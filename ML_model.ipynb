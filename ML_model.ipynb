{
 "cells": [
  {
   "attachments": {},
   "cell_type": "markdown",
   "metadata": {},
   "source": [
    "## Imports para análise e limpeza dos dados"
   ]
  },
  {
   "cell_type": "code",
   "execution_count": 211,
   "metadata": {},
   "outputs": [],
   "source": [
    "import pandas_gbq as pg\n",
    "import pandas as pd\n",
    "import numpy as np\n",
    "import matplotlib.pylab as plt\n",
    "\n",
    "from google.oauth2 import service_account\n",
    "import json\n",
    "import os\n",
    "import base64\n",
    "import logging\n",
    "import traceback\n",
    "\n",
    "from dotenv import load_dotenv\n"
   ]
  },
  {
   "attachments": {},
   "cell_type": "markdown",
   "metadata": {},
   "source": [
    "## Imports para Machine Learning"
   ]
  },
  {
   "cell_type": "code",
   "execution_count": 226,
   "metadata": {},
   "outputs": [],
   "source": [
    "from sklearn.model_selection import train_test_split\n",
    "from sklearn.naive_bayes import GaussianNB\n",
    "from sklearn.tree import DecisionTreeClassifier\n",
    "from sklearn.svm import SVC\n",
    "from sklearn.ensemble import RandomForestClassifier\n",
    "from sklearn.neighbors import KNeighborsClassifier\n",
    "from xgboost import XGBClassifier\n",
    "from sklearn.metrics import confusion_matrix, accuracy_score\n",
    "from sklearn.metrics import roc_curve"
   ]
  },
  {
   "cell_type": "code",
   "execution_count": 44,
   "metadata": {},
   "outputs": [],
   "source": [
    "# environment variables loading\n",
    "load_dotenv()\n",
    "\n",
    "logger = logging.getLogger()\n",
    "handler = logging.StreamHandler()\n",
    "logger.addHandler(handler)\n",
    "logger.setLevel(logging.DEBUG)\n",
    "\n",
    "sql_no_com = \"\"\"\n",
    "select * \n",
    "from `civic-athlete-325820.pji4.dataset_analysis`\n",
    "\n",
    "limit 100000\n",
    "\"\"\"\n"
   ]
  },
  {
   "cell_type": "code",
   "execution_count": 45,
   "metadata": {},
   "outputs": [
    {
     "name": "stderr",
     "output_type": "stream",
     "text": [
      "Requesting query... \n",
      "Requesting query... \n",
      "Requesting query... \n",
      "Requesting query... \n",
      "Converted retries value: 3 -> Retry(total=3, connect=None, read=None, redirect=None, status=None)\n",
      "Converted retries value: 3 -> Retry(total=3, connect=None, read=None, redirect=None, status=None)\n",
      "Converted retries value: 3 -> Retry(total=3, connect=None, read=None, redirect=None, status=None)\n",
      "Converted retries value: 3 -> Retry(total=3, connect=None, read=None, redirect=None, status=None)\n",
      "Making request: POST https://oauth2.googleapis.com/token\n",
      "Making request: POST https://oauth2.googleapis.com/token\n",
      "Making request: POST https://oauth2.googleapis.com/token\n",
      "Making request: POST https://oauth2.googleapis.com/token\n",
      "Starting new HTTPS connection (1): oauth2.googleapis.com:443\n",
      "Starting new HTTPS connection (1): oauth2.googleapis.com:443\n",
      "Starting new HTTPS connection (1): oauth2.googleapis.com:443\n",
      "Starting new HTTPS connection (1): oauth2.googleapis.com:443\n"
     ]
    },
    {
     "name": "stdout",
     "output_type": "stream",
     "text": [
      "Running\n"
     ]
    },
    {
     "name": "stderr",
     "output_type": "stream",
     "text": [
      "https://oauth2.googleapis.com:443 \"POST /token HTTP/1.1\" 200 None\n",
      "https://oauth2.googleapis.com:443 \"POST /token HTTP/1.1\" 200 None\n",
      "https://oauth2.googleapis.com:443 \"POST /token HTTP/1.1\" 200 None\n",
      "https://oauth2.googleapis.com:443 \"POST /token HTTP/1.1\" 200 None\n",
      "Starting new HTTPS connection (1): bigquery.googleapis.com:443\n",
      "Starting new HTTPS connection (1): bigquery.googleapis.com:443\n",
      "Starting new HTTPS connection (1): bigquery.googleapis.com:443\n",
      "Starting new HTTPS connection (1): bigquery.googleapis.com:443\n",
      "https://bigquery.googleapis.com:443 \"POST /bigquery/v2/projects/civic-athlete-325820/jobs?prettyPrint=false HTTP/1.1\" 200 None\n",
      "https://bigquery.googleapis.com:443 \"POST /bigquery/v2/projects/civic-athlete-325820/jobs?prettyPrint=false HTTP/1.1\" 200 None\n",
      "https://bigquery.googleapis.com:443 \"POST /bigquery/v2/projects/civic-athlete-325820/jobs?prettyPrint=false HTTP/1.1\" 200 None\n",
      "https://bigquery.googleapis.com:443 \"POST /bigquery/v2/projects/civic-athlete-325820/jobs?prettyPrint=false HTTP/1.1\" 200 None\n",
      "Query running...\n",
      "Query running...\n",
      "Query running...\n",
      "Query running...\n",
      "Job ID: 5b86e799-09db-43f7-9492-43c853588db0\n",
      "Job ID: 5b86e799-09db-43f7-9492-43c853588db0\n",
      "Job ID: 5b86e799-09db-43f7-9492-43c853588db0\n",
      "Job ID: 5b86e799-09db-43f7-9492-43c853588db0\n",
      "Query done.\n",
      "Cache hit.\n",
      "\n",
      "Query done.\n",
      "Cache hit.\n",
      "\n",
      "Query done.\n",
      "Cache hit.\n",
      "\n",
      "Query done.\n",
      "Cache hit.\n",
      "\n",
      "https://bigquery.googleapis.com:443 \"GET /bigquery/v2/projects/civic-athlete-325820/queries/5b86e799-09db-43f7-9492-43c853588db0?maxResults=0&location=US&prettyPrint=false HTTP/1.1\" 200 None\n",
      "https://bigquery.googleapis.com:443 \"GET /bigquery/v2/projects/civic-athlete-325820/queries/5b86e799-09db-43f7-9492-43c853588db0?maxResults=0&location=US&prettyPrint=false HTTP/1.1\" 200 None\n",
      "https://bigquery.googleapis.com:443 \"GET /bigquery/v2/projects/civic-athlete-325820/queries/5b86e799-09db-43f7-9492-43c853588db0?maxResults=0&location=US&prettyPrint=false HTTP/1.1\" 200 None\n",
      "https://bigquery.googleapis.com:443 \"GET /bigquery/v2/projects/civic-athlete-325820/queries/5b86e799-09db-43f7-9492-43c853588db0?maxResults=0&location=US&prettyPrint=false HTTP/1.1\" 200 None\n",
      "https://bigquery.googleapis.com:443 \"GET /bigquery/v2/projects/civic-athlete-325820/datasets/_826a8878fb6ce8e27327e8909de23ec7cadc2e1c/tables/anon7a1843f708dc0b7dd3eefc7f94e8038e163285cfbd695cb9945149613cc2cc6e?prettyPrint=false HTTP/1.1\" 200 None\n",
      "https://bigquery.googleapis.com:443 \"GET /bigquery/v2/projects/civic-athlete-325820/datasets/_826a8878fb6ce8e27327e8909de23ec7cadc2e1c/tables/anon7a1843f708dc0b7dd3eefc7f94e8038e163285cfbd695cb9945149613cc2cc6e?prettyPrint=false HTTP/1.1\" 200 None\n",
      "https://bigquery.googleapis.com:443 \"GET /bigquery/v2/projects/civic-athlete-325820/datasets/_826a8878fb6ce8e27327e8909de23ec7cadc2e1c/tables/anon7a1843f708dc0b7dd3eefc7f94e8038e163285cfbd695cb9945149613cc2cc6e?prettyPrint=false HTTP/1.1\" 200 None\n",
      "https://bigquery.googleapis.com:443 \"GET /bigquery/v2/projects/civic-athlete-325820/datasets/_826a8878fb6ce8e27327e8909de23ec7cadc2e1c/tables/anon7a1843f708dc0b7dd3eefc7f94e8038e163285cfbd695cb9945149613cc2cc6e?prettyPrint=false HTTP/1.1\" 200 None\n",
      "c:\\Users\\sergi\\AppData\\Local\\Programs\\Python\\Python39\\lib\\site-packages\\google\\cloud\\bigquery\\table.py:2083: UserWarning: A progress bar was requested, but there was an error loading the tqdm library. Please install tqdm to use the progress bar functionality.\n",
      "  record_batch = self.to_arrow(\n",
      "https://bigquery.googleapis.com:443 \"GET /bigquery/v2/projects/civic-athlete-325820/datasets/_826a8878fb6ce8e27327e8909de23ec7cadc2e1c/tables/anon7a1843f708dc0b7dd3eefc7f94e8038e163285cfbd695cb9945149613cc2cc6e/data?formatOptions.useInt64Timestamp=True&prettyPrint=false HTTP/1.1\" 200 None\n",
      "https://bigquery.googleapis.com:443 \"GET /bigquery/v2/projects/civic-athlete-325820/datasets/_826a8878fb6ce8e27327e8909de23ec7cadc2e1c/tables/anon7a1843f708dc0b7dd3eefc7f94e8038e163285cfbd695cb9945149613cc2cc6e/data?formatOptions.useInt64Timestamp=True&prettyPrint=false HTTP/1.1\" 200 None\n",
      "https://bigquery.googleapis.com:443 \"GET /bigquery/v2/projects/civic-athlete-325820/datasets/_826a8878fb6ce8e27327e8909de23ec7cadc2e1c/tables/anon7a1843f708dc0b7dd3eefc7f94e8038e163285cfbd695cb9945149613cc2cc6e/data?formatOptions.useInt64Timestamp=True&prettyPrint=false HTTP/1.1\" 200 None\n",
      "https://bigquery.googleapis.com:443 \"GET /bigquery/v2/projects/civic-athlete-325820/datasets/_826a8878fb6ce8e27327e8909de23ec7cadc2e1c/tables/anon7a1843f708dc0b7dd3eefc7f94e8038e163285cfbd695cb9945149613cc2cc6e/data?formatOptions.useInt64Timestamp=True&prettyPrint=false HTTP/1.1\" 200 None\n",
      "https://bigquery.googleapis.com:443 \"GET /bigquery/v2/projects/civic-athlete-325820/datasets/_826a8878fb6ce8e27327e8909de23ec7cadc2e1c/tables/anon7a1843f708dc0b7dd3eefc7f94e8038e163285cfbd695cb9945149613cc2cc6e/data?pageToken=BFNQ2IR2Q4AQAAASAUIIBAEAAUNAUCGGVIBBB777777QOIH777777777777X6KQAJKQQECTSBIPQUFDDNF3GSYZNMF2GQ3DFORSS2MZSGU4DEMARL5NZBH6WAAAAAERJL44DENTBHA4DOODGMI3GGZJYMUZDOMZSG5STQOJQHFSGKMRTMVRTOY3BMRRTEZJRMMNCINZUG4YGMOBUGIWTIZBTMEWTIMRQMEWTQNZXMMWTEYJQMU2TCMLEGAYGKYISIRQW433OG5QTCOBUGNTDOMBYMRRTAYRXMRSDGZLFMZRTOZRZGRSTQMBTHBSTCNRTGI4DKY3GMJSDMOJVMNRDSOJUGUYTIOJWGEZWGYZSMNRTMZI2MU3WCMJYGQZWMNZQHBSGGMDCG5SGIM3FMVTGGN3GHE2GKOBQGM4GKMJWGMZDQNLDMZRGINRZGVRWEOJZGQ2TCNBZGYYTGY3DGJRWGNTFENRTQMLFMEZWKMBNHBSDIOJNGRRTSNZNHBSTAOJNMMZDIOJQGIZTKZRYMRQQ%3D%3D%3D%3D&formatOptions.useInt64Timestamp=True&prettyPrint=false HTTP/1.1\" 200 None\n",
      "https://bigquery.googleapis.com:443 \"GET /bigquery/v2/projects/civic-athlete-325820/datasets/_826a8878fb6ce8e27327e8909de23ec7cadc2e1c/tables/anon7a1843f708dc0b7dd3eefc7f94e8038e163285cfbd695cb9945149613cc2cc6e/data?pageToken=BFNQ2IR2Q4AQAAASAUIIBAEAAUNAUCGGVIBBB777777QOIH777777777777X6KQAJKQQECTSBIPQUFDDNF3GSYZNMF2GQ3DFORSS2MZSGU4DEMARL5NZBH6WAAAAAERJL44DENTBHA4DOODGMI3GGZJYMUZDOMZSG5STQOJQHFSGKMRTMVRTOY3BMRRTEZJRMMNCINZUG4YGMOBUGIWTIZBTMEWTIMRQMEWTQNZXMMWTEYJQMU2TCMLEGAYGKYISIRQW433OG5QTCOBUGNTDOMBYMRRTAYRXMRSDGZLFMZRTOZRZGRSTQMBTHBSTCNRTGI4DKY3GMJSDMOJVMNRDSOJUGUYTIOJWGEZWGYZSMNRTMZI2MU3WCMJYGQZWMNZQHBSGGMDCG5SGIM3FMVTGGN3GHE2GKOBQGM4GKMJWGMZDQNLDMZRGINRZGVRWEOJZGQ2TCNBZGYYTGY3DGJRWGNTFENRTQMLFMEZWKMBNHBSDIOJNGRRTSNZNHBSTAOJNMMZDIOJQGIZTKZRYMRQQ%3D%3D%3D%3D&formatOptions.useInt64Timestamp=True&prettyPrint=false HTTP/1.1\" 200 None\n",
      "https://bigquery.googleapis.com:443 \"GET /bigquery/v2/projects/civic-athlete-325820/datasets/_826a8878fb6ce8e27327e8909de23ec7cadc2e1c/tables/anon7a1843f708dc0b7dd3eefc7f94e8038e163285cfbd695cb9945149613cc2cc6e/data?pageToken=BFNQ2IR2Q4AQAAASAUIIBAEAAUNAUCGGVIBBB777777QOIH777777777777X6KQAJKQQECTSBIPQUFDDNF3GSYZNMF2GQ3DFORSS2MZSGU4DEMARL5NZBH6WAAAAAERJL44DENTBHA4DOODGMI3GGZJYMUZDOMZSG5STQOJQHFSGKMRTMVRTOY3BMRRTEZJRMMNCINZUG4YGMOBUGIWTIZBTMEWTIMRQMEWTQNZXMMWTEYJQMU2TCMLEGAYGKYISIRQW433OG5QTCOBUGNTDOMBYMRRTAYRXMRSDGZLFMZRTOZRZGRSTQMBTHBSTCNRTGI4DKY3GMJSDMOJVMNRDSOJUGUYTIOJWGEZWGYZSMNRTMZI2MU3WCMJYGQZWMNZQHBSGGMDCG5SGIM3FMVTGGN3GHE2GKOBQGM4GKMJWGMZDQNLDMZRGINRZGVRWEOJZGQ2TCNBZGYYTGY3DGJRWGNTFENRTQMLFMEZWKMBNHBSDIOJNGRRTSNZNHBSTAOJNMMZDIOJQGIZTKZRYMRQQ%3D%3D%3D%3D&formatOptions.useInt64Timestamp=True&prettyPrint=false HTTP/1.1\" 200 None\n",
      "https://bigquery.googleapis.com:443 \"GET /bigquery/v2/projects/civic-athlete-325820/datasets/_826a8878fb6ce8e27327e8909de23ec7cadc2e1c/tables/anon7a1843f708dc0b7dd3eefc7f94e8038e163285cfbd695cb9945149613cc2cc6e/data?pageToken=BFNQ2IR2Q4AQAAASAUIIBAEAAUNAUCGGVIBBB777777QOIH777777777777X6KQAJKQQECTSBIPQUFDDNF3GSYZNMF2GQ3DFORSS2MZSGU4DEMARL5NZBH6WAAAAAERJL44DENTBHA4DOODGMI3GGZJYMUZDOMZSG5STQOJQHFSGKMRTMVRTOY3BMRRTEZJRMMNCINZUG4YGMOBUGIWTIZBTMEWTIMRQMEWTQNZXMMWTEYJQMU2TCMLEGAYGKYISIRQW433OG5QTCOBUGNTDOMBYMRRTAYRXMRSDGZLFMZRTOZRZGRSTQMBTHBSTCNRTGI4DKY3GMJSDMOJVMNRDSOJUGUYTIOJWGEZWGYZSMNRTMZI2MU3WCMJYGQZWMNZQHBSGGMDCG5SGIM3FMVTGGN3GHE2GKOBQGM4GKMJWGMZDQNLDMZRGINRZGVRWEOJZGQ2TCNBZGYYTGY3DGJRWGNTFENRTQMLFMEZWKMBNHBSDIOJNGRRTSNZNHBSTAOJNMMZDIOJQGIZTKZRYMRQQ%3D%3D%3D%3D&formatOptions.useInt64Timestamp=True&prettyPrint=false HTTP/1.1\" 200 None\n",
      "https://bigquery.googleapis.com:443 \"GET /bigquery/v2/projects/civic-athlete-325820/datasets/_826a8878fb6ce8e27327e8909de23ec7cadc2e1c/tables/anon7a1843f708dc0b7dd3eefc7f94e8038e163285cfbd695cb9945149613cc2cc6e/data?pageToken=BFNQ2IR2Q4AQAAASAUIIBAEAAUNAUCFR2UCBB777777QOIH777777777777X6KQAJKQQECTSBIPQUFDDNF3GSYZNMF2GQ3DFORSS2MZSGU4DEMARL5NZBH6WAAAAAERJL44DENTBHA4DOODGMI3GGZJYMUZDOMZSG5STQOJQHFSGKMRTMVRTOY3BMRRTEZJRMMNCINZUG4YGMOBUGIWTIZBTMEWTIMRQMEWTQNZXMMWTEYJQMU2TCMLEGAYGKYISIRQW433OG5QTCOBUGNTDOMBYMRRTAYRXMRSDGZLFMZRTOZRZGRSTQMBTHBSTCNRTGI4DKY3GMJSDMOJVMNRDSOJUGUYTIOJWGEZWGYZSMNRTMZI2MU3WCMJYGQZWMNZQHBSGGMDCG5SGIM3FMVTGGN3GHE2GKOBQGM4GKMJWGMZDQNLDMZRGINRZGVRWEOJZGQ2TCNBZGYYTGY3DGJRWGNTFENRTQMLFMEZWKMBNHBSDIOJNGRRTSNZNHBSTAOJNMMZDIOJQGIZTKZRYMRQQ%3D%3D%3D%3D&formatOptions.useInt64Timestamp=True&prettyPrint=false HTTP/1.1\" 200 None\n",
      "https://bigquery.googleapis.com:443 \"GET /bigquery/v2/projects/civic-athlete-325820/datasets/_826a8878fb6ce8e27327e8909de23ec7cadc2e1c/tables/anon7a1843f708dc0b7dd3eefc7f94e8038e163285cfbd695cb9945149613cc2cc6e/data?pageToken=BFNQ2IR2Q4AQAAASAUIIBAEAAUNAUCFR2UCBB777777QOIH777777777777X6KQAJKQQECTSBIPQUFDDNF3GSYZNMF2GQ3DFORSS2MZSGU4DEMARL5NZBH6WAAAAAERJL44DENTBHA4DOODGMI3GGZJYMUZDOMZSG5STQOJQHFSGKMRTMVRTOY3BMRRTEZJRMMNCINZUG4YGMOBUGIWTIZBTMEWTIMRQMEWTQNZXMMWTEYJQMU2TCMLEGAYGKYISIRQW433OG5QTCOBUGNTDOMBYMRRTAYRXMRSDGZLFMZRTOZRZGRSTQMBTHBSTCNRTGI4DKY3GMJSDMOJVMNRDSOJUGUYTIOJWGEZWGYZSMNRTMZI2MU3WCMJYGQZWMNZQHBSGGMDCG5SGIM3FMVTGGN3GHE2GKOBQGM4GKMJWGMZDQNLDMZRGINRZGVRWEOJZGQ2TCNBZGYYTGY3DGJRWGNTFENRTQMLFMEZWKMBNHBSDIOJNGRRTSNZNHBSTAOJNMMZDIOJQGIZTKZRYMRQQ%3D%3D%3D%3D&formatOptions.useInt64Timestamp=True&prettyPrint=false HTTP/1.1\" 200 None\n",
      "https://bigquery.googleapis.com:443 \"GET /bigquery/v2/projects/civic-athlete-325820/datasets/_826a8878fb6ce8e27327e8909de23ec7cadc2e1c/tables/anon7a1843f708dc0b7dd3eefc7f94e8038e163285cfbd695cb9945149613cc2cc6e/data?pageToken=BFNQ2IR2Q4AQAAASAUIIBAEAAUNAUCFR2UCBB777777QOIH777777777777X6KQAJKQQECTSBIPQUFDDNF3GSYZNMF2GQ3DFORSS2MZSGU4DEMARL5NZBH6WAAAAAERJL44DENTBHA4DOODGMI3GGZJYMUZDOMZSG5STQOJQHFSGKMRTMVRTOY3BMRRTEZJRMMNCINZUG4YGMOBUGIWTIZBTMEWTIMRQMEWTQNZXMMWTEYJQMU2TCMLEGAYGKYISIRQW433OG5QTCOBUGNTDOMBYMRRTAYRXMRSDGZLFMZRTOZRZGRSTQMBTHBSTCNRTGI4DKY3GMJSDMOJVMNRDSOJUGUYTIOJWGEZWGYZSMNRTMZI2MU3WCMJYGQZWMNZQHBSGGMDCG5SGIM3FMVTGGN3GHE2GKOBQGM4GKMJWGMZDQNLDMZRGINRZGVRWEOJZGQ2TCNBZGYYTGY3DGJRWGNTFENRTQMLFMEZWKMBNHBSDIOJNGRRTSNZNHBSTAOJNMMZDIOJQGIZTKZRYMRQQ%3D%3D%3D%3D&formatOptions.useInt64Timestamp=True&prettyPrint=false HTTP/1.1\" 200 None\n",
      "https://bigquery.googleapis.com:443 \"GET /bigquery/v2/projects/civic-athlete-325820/datasets/_826a8878fb6ce8e27327e8909de23ec7cadc2e1c/tables/anon7a1843f708dc0b7dd3eefc7f94e8038e163285cfbd695cb9945149613cc2cc6e/data?pageToken=BFNQ2IR2Q4AQAAASAUIIBAEAAUNAUCFR2UCBB777777QOIH777777777777X6KQAJKQQECTSBIPQUFDDNF3GSYZNMF2GQ3DFORSS2MZSGU4DEMARL5NZBH6WAAAAAERJL44DENTBHA4DOODGMI3GGZJYMUZDOMZSG5STQOJQHFSGKMRTMVRTOY3BMRRTEZJRMMNCINZUG4YGMOBUGIWTIZBTMEWTIMRQMEWTQNZXMMWTEYJQMU2TCMLEGAYGKYISIRQW433OG5QTCOBUGNTDOMBYMRRTAYRXMRSDGZLFMZRTOZRZGRSTQMBTHBSTCNRTGI4DKY3GMJSDMOJVMNRDSOJUGUYTIOJWGEZWGYZSMNRTMZI2MU3WCMJYGQZWMNZQHBSGGMDCG5SGIM3FMVTGGN3GHE2GKOBQGM4GKMJWGMZDQNLDMZRGINRZGVRWEOJZGQ2TCNBZGYYTGY3DGJRWGNTFENRTQMLFMEZWKMBNHBSDIOJNGRRTSNZNHBSTAOJNMMZDIOJQGIZTKZRYMRQQ%3D%3D%3D%3D&formatOptions.useInt64Timestamp=True&prettyPrint=false HTTP/1.1\" 200 None\n",
      "Got 100000 rows.\n",
      "\n",
      "Got 100000 rows.\n",
      "\n",
      "Got 100000 rows.\n",
      "\n",
      "Got 100000 rows.\n",
      "\n",
      "Total time taken 44.39 s.\n",
      "Finished at 2023-03-31 21:06:04.\n",
      "Total time taken 44.39 s.\n",
      "Finished at 2023-03-31 21:06:04.\n",
      "Total time taken 44.39 s.\n",
      "Finished at 2023-03-31 21:06:04.\n",
      "Total time taken 44.39 s.\n",
      "Finished at 2023-03-31 21:06:04.\n"
     ]
    },
    {
     "name": "stdout",
     "output_type": "stream",
     "text": [
      "Query done\n"
     ]
    }
   ],
   "source": [
    "try:\n",
    "    print('Running')\n",
    "\n",
    "    credentials = service_account.Credentials.from_service_account_info(json.loads(base64.b64decode(os.environ.get('CRED'))))\n",
    "    df = pg.read_gbq(sql_no_com, project_id=\"civic-athlete-325820\", credentials=credentials)\n",
    "\n",
    "    print('Query done')\n",
    "\n",
    "except Exception as e:\n",
    "    print(e)\n",
    "    print(traceback.format_exc())"
   ]
  },
  {
   "cell_type": "code",
   "execution_count": 46,
   "metadata": {},
   "outputs": [
    {
     "data": {
      "text/html": [
       "<div>\n",
       "<style scoped>\n",
       "    .dataframe tbody tr th:only-of-type {\n",
       "        vertical-align: middle;\n",
       "    }\n",
       "\n",
       "    .dataframe tbody tr th {\n",
       "        vertical-align: top;\n",
       "    }\n",
       "\n",
       "    .dataframe thead th {\n",
       "        text-align: right;\n",
       "    }\n",
       "</style>\n",
       "<table border=\"1\" class=\"dataframe\">\n",
       "  <thead>\n",
       "    <tr style=\"text-align: right;\">\n",
       "      <th></th>\n",
       "      <th>cnpj_basico</th>\n",
       "      <th>NOME_FANTASIA</th>\n",
       "      <th>CNAE_FISCAL_PRINCIPAL</th>\n",
       "      <th>cnae_descricao</th>\n",
       "      <th>cep</th>\n",
       "      <th>UF</th>\n",
       "      <th>municipio</th>\n",
       "      <th>ident_matriz_filial</th>\n",
       "      <th>dt_sit_cadastral</th>\n",
       "      <th>sit_cadastral</th>\n",
       "      <th>dt_inicio_ativ</th>\n",
       "      <th>razao_social</th>\n",
       "      <th>capital_social</th>\n",
       "      <th>porte</th>\n",
       "      <th>natureza_juridica</th>\n",
       "      <th>month</th>\n",
       "      <th>year</th>\n",
       "    </tr>\n",
       "  </thead>\n",
       "  <tbody>\n",
       "    <tr>\n",
       "      <th>0</th>\n",
       "      <td>42720799</td>\n",
       "      <td>None</td>\n",
       "      <td>4712100</td>\n",
       "      <td>Comércio varejista de mercadorias em geral, co...</td>\n",
       "      <td>58978000</td>\n",
       "      <td>PB</td>\n",
       "      <td>SANTA INES</td>\n",
       "      <td>Matriz</td>\n",
       "      <td>2021-07-14</td>\n",
       "      <td>ATIVA</td>\n",
       "      <td>2021-07-14</td>\n",
       "      <td>VALQUIRIA LIERGE DE MELO RAMALHO 07238540410</td>\n",
       "      <td>500000</td>\n",
       "      <td>MICRO EMPRESA</td>\n",
       "      <td>Empresário (Individual)</td>\n",
       "      <td>7</td>\n",
       "      <td>2021</td>\n",
       "    </tr>\n",
       "    <tr>\n",
       "      <th>1</th>\n",
       "      <td>44376719</td>\n",
       "      <td>JK MAGAZINE VAZ</td>\n",
       "      <td>4781400</td>\n",
       "      <td>Comércio varejista de artigos do vestuário e a...</td>\n",
       "      <td>68830000</td>\n",
       "      <td>PA</td>\n",
       "      <td>PONTA DE PEDRAS</td>\n",
       "      <td>Matriz</td>\n",
       "      <td>2021-11-24</td>\n",
       "      <td>ATIVA</td>\n",
       "      <td>2021-11-24</td>\n",
       "      <td>KEIZY RODRIGUES VIEIRA</td>\n",
       "      <td>10000000</td>\n",
       "      <td>MICRO EMPRESA</td>\n",
       "      <td>Empresário (Individual)</td>\n",
       "      <td>11</td>\n",
       "      <td>2021</td>\n",
       "    </tr>\n",
       "    <tr>\n",
       "      <th>2</th>\n",
       "      <td>46345675</td>\n",
       "      <td>NOVINHO MOTO PECAS</td>\n",
       "      <td>4541207</td>\n",
       "      <td>Comércio a varejo de peças e acessórios usados...</td>\n",
       "      <td>65415000</td>\n",
       "      <td>MA</td>\n",
       "      <td>COROATA</td>\n",
       "      <td>Matriz</td>\n",
       "      <td>2022-05-11</td>\n",
       "      <td>ATIVA</td>\n",
       "      <td>2022-05-11</td>\n",
       "      <td>CARLOS ANDRE DE OLIVEIRA BRITO 62292509342</td>\n",
       "      <td>500000</td>\n",
       "      <td>MICRO EMPRESA</td>\n",
       "      <td>Empresário (Individual)</td>\n",
       "      <td>5</td>\n",
       "      <td>2022</td>\n",
       "    </tr>\n",
       "    <tr>\n",
       "      <th>3</th>\n",
       "      <td>45073435</td>\n",
       "      <td>QUALITY INCELL</td>\n",
       "      <td>9512600</td>\n",
       "      <td>Reparação e manutenção de equipamentos de comu...</td>\n",
       "      <td>62900000</td>\n",
       "      <td>CE</td>\n",
       "      <td>RUSSAS</td>\n",
       "      <td>Matriz</td>\n",
       "      <td>2022-01-30</td>\n",
       "      <td>ATIVA</td>\n",
       "      <td>2022-01-30</td>\n",
       "      <td>JOAO ADAIRLON DE BRITO 07221204357</td>\n",
       "      <td>100000</td>\n",
       "      <td>MICRO EMPRESA</td>\n",
       "      <td>Empresário (Individual)</td>\n",
       "      <td>1</td>\n",
       "      <td>2022</td>\n",
       "    </tr>\n",
       "    <tr>\n",
       "      <th>4</th>\n",
       "      <td>41388506</td>\n",
       "      <td>SEGURAR EVENTOS</td>\n",
       "      <td>8230001</td>\n",
       "      <td>Serviços de organização de feiras, congressos,...</td>\n",
       "      <td>39404522</td>\n",
       "      <td>MG</td>\n",
       "      <td>MONTES CLAROS</td>\n",
       "      <td>Matriz</td>\n",
       "      <td>2021-03-29</td>\n",
       "      <td>ATIVA</td>\n",
       "      <td>2021-03-29</td>\n",
       "      <td>HERMANO CESAR FONSECA FREITAS 04016182697</td>\n",
       "      <td>100000</td>\n",
       "      <td>MICRO EMPRESA</td>\n",
       "      <td>Empresário (Individual)</td>\n",
       "      <td>3</td>\n",
       "      <td>2021</td>\n",
       "    </tr>\n",
       "  </tbody>\n",
       "</table>\n",
       "</div>"
      ],
      "text/plain": [
       "   cnpj_basico       NOME_FANTASIA  CNAE_FISCAL_PRINCIPAL  \\\n",
       "0     42720799                None                4712100   \n",
       "1     44376719     JK MAGAZINE VAZ                4781400   \n",
       "2     46345675  NOVINHO MOTO PECAS                4541207   \n",
       "3     45073435      QUALITY INCELL                9512600   \n",
       "4     41388506     SEGURAR EVENTOS                8230001   \n",
       "\n",
       "                                      cnae_descricao       cep  UF  \\\n",
       "0  Comércio varejista de mercadorias em geral, co...  58978000  PB   \n",
       "1  Comércio varejista de artigos do vestuário e a...  68830000  PA   \n",
       "2  Comércio a varejo de peças e acessórios usados...  65415000  MA   \n",
       "3  Reparação e manutenção de equipamentos de comu...  62900000  CE   \n",
       "4  Serviços de organização de feiras, congressos,...  39404522  MG   \n",
       "\n",
       "         municipio ident_matriz_filial dt_sit_cadastral sit_cadastral  \\\n",
       "0       SANTA INES              Matriz       2021-07-14         ATIVA   \n",
       "1  PONTA DE PEDRAS              Matriz       2021-11-24         ATIVA   \n",
       "2          COROATA              Matriz       2022-05-11         ATIVA   \n",
       "3           RUSSAS              Matriz       2022-01-30         ATIVA   \n",
       "4    MONTES CLAROS              Matriz       2021-03-29         ATIVA   \n",
       "\n",
       "  dt_inicio_ativ                                  razao_social  \\\n",
       "0     2021-07-14  VALQUIRIA LIERGE DE MELO RAMALHO 07238540410   \n",
       "1     2021-11-24                        KEIZY RODRIGUES VIEIRA   \n",
       "2     2022-05-11    CARLOS ANDRE DE OLIVEIRA BRITO 62292509342   \n",
       "3     2022-01-30            JOAO ADAIRLON DE BRITO 07221204357   \n",
       "4     2021-03-29     HERMANO CESAR FONSECA FREITAS 04016182697   \n",
       "\n",
       "   capital_social          porte        natureza_juridica  month  year  \n",
       "0          500000  MICRO EMPRESA  Empresário (Individual)      7  2021  \n",
       "1        10000000  MICRO EMPRESA  Empresário (Individual)     11  2021  \n",
       "2          500000  MICRO EMPRESA  Empresário (Individual)      5  2022  \n",
       "3          100000  MICRO EMPRESA  Empresário (Individual)      1  2022  \n",
       "4          100000  MICRO EMPRESA  Empresário (Individual)      3  2021  "
      ]
     },
     "execution_count": 46,
     "metadata": {},
     "output_type": "execute_result"
    }
   ],
   "source": [
    "df.head(5)"
   ]
  },
  {
   "cell_type": "code",
   "execution_count": 47,
   "metadata": {},
   "outputs": [],
   "source": [
    "# Renomeando as colunas para melhorar a leitura dos dados\n",
    "df.rename(columns={\n",
    "        'cnpj_basico': 'CNPJ', \n",
    "        'NOME_FANTASIA': 'Nome Fantasia', \n",
    "        'CNAE_FISCAL_PRINCIPAL': 'CNAE',\n",
    "        'cnae_descricao': 'Descricao', \n",
    "        'cep': 'CEP', \n",
    "        'UF': 'UF', \n",
    "        'municipio': 'Municipio', \n",
    "        'ident_matriz_filial': 'Matriz/Filial',\n",
    "        'dt_sit_cadastral': 'Data da Situação Cadastral', \n",
    "        'sit_cadastral': 'Situação Cadastral', \n",
    "        'dt_inicio_ativ': 'Data de Inicio de Atividades', \n",
    "        'razao_social': 'Razao Social',\n",
    "        'capital_social': 'Capital', \n",
    "        'porte': 'Porte', \n",
    "        'natureza_juridica': 'Natureza Juridica', \n",
    "        'month': 'Mes', \n",
    "        'year': 'Ano'\n",
    "}, inplace=True)"
   ]
  },
  {
   "cell_type": "code",
   "execution_count": 48,
   "metadata": {},
   "outputs": [
    {
     "data": {
      "text/html": [
       "<div>\n",
       "<style scoped>\n",
       "    .dataframe tbody tr th:only-of-type {\n",
       "        vertical-align: middle;\n",
       "    }\n",
       "\n",
       "    .dataframe tbody tr th {\n",
       "        vertical-align: top;\n",
       "    }\n",
       "\n",
       "    .dataframe thead th {\n",
       "        text-align: right;\n",
       "    }\n",
       "</style>\n",
       "<table border=\"1\" class=\"dataframe\">\n",
       "  <thead>\n",
       "    <tr style=\"text-align: right;\">\n",
       "      <th></th>\n",
       "      <th>CNPJ</th>\n",
       "      <th>CNAE</th>\n",
       "      <th>Capital</th>\n",
       "      <th>Mes</th>\n",
       "      <th>Ano</th>\n",
       "    </tr>\n",
       "  </thead>\n",
       "  <tbody>\n",
       "    <tr>\n",
       "      <th>count</th>\n",
       "      <td>1.000000e+05</td>\n",
       "      <td>1.000000e+05</td>\n",
       "      <td>1.000000e+05</td>\n",
       "      <td>100000.000000</td>\n",
       "      <td>100000.000000</td>\n",
       "    </tr>\n",
       "    <tr>\n",
       "      <th>mean</th>\n",
       "      <td>4.605545e+07</td>\n",
       "      <td>5.875147e+06</td>\n",
       "      <td>9.630045e+09</td>\n",
       "      <td>6.331230</td>\n",
       "      <td>2020.428810</td>\n",
       "    </tr>\n",
       "    <tr>\n",
       "      <th>std</th>\n",
       "      <td>6.308147e+06</td>\n",
       "      <td>2.213274e+06</td>\n",
       "      <td>4.984922e+11</td>\n",
       "      <td>3.319938</td>\n",
       "      <td>6.127964</td>\n",
       "    </tr>\n",
       "    <tr>\n",
       "      <th>min</th>\n",
       "      <td>4.127377e+07</td>\n",
       "      <td>1.113020e+05</td>\n",
       "      <td>0.000000e+00</td>\n",
       "      <td>1.000000</td>\n",
       "      <td>1955.000000</td>\n",
       "    </tr>\n",
       "    <tr>\n",
       "      <th>25%</th>\n",
       "      <td>4.336912e+07</td>\n",
       "      <td>4.722901e+06</td>\n",
       "      <td>1.000000e+05</td>\n",
       "      <td>4.000000</td>\n",
       "      <td>2021.000000</td>\n",
       "    </tr>\n",
       "    <tr>\n",
       "      <th>50%</th>\n",
       "      <td>4.504558e+07</td>\n",
       "      <td>5.235850e+06</td>\n",
       "      <td>3.000000e+05</td>\n",
       "      <td>6.000000</td>\n",
       "      <td>2022.000000</td>\n",
       "    </tr>\n",
       "    <tr>\n",
       "      <th>75%</th>\n",
       "      <td>4.673353e+07</td>\n",
       "      <td>8.020001e+06</td>\n",
       "      <td>1.000000e+06</td>\n",
       "      <td>9.000000</td>\n",
       "      <td>2022.000000</td>\n",
       "    </tr>\n",
       "    <tr>\n",
       "      <th>max</th>\n",
       "      <td>9.755427e+07</td>\n",
       "      <td>9.700500e+06</td>\n",
       "      <td>1.000000e+14</td>\n",
       "      <td>12.000000</td>\n",
       "      <td>2023.000000</td>\n",
       "    </tr>\n",
       "  </tbody>\n",
       "</table>\n",
       "</div>"
      ],
      "text/plain": [
       "               CNPJ          CNAE       Capital            Mes            Ano\n",
       "count  1.000000e+05  1.000000e+05  1.000000e+05  100000.000000  100000.000000\n",
       "mean   4.605545e+07  5.875147e+06  9.630045e+09       6.331230    2020.428810\n",
       "std    6.308147e+06  2.213274e+06  4.984922e+11       3.319938       6.127964\n",
       "min    4.127377e+07  1.113020e+05  0.000000e+00       1.000000    1955.000000\n",
       "25%    4.336912e+07  4.722901e+06  1.000000e+05       4.000000    2021.000000\n",
       "50%    4.504558e+07  5.235850e+06  3.000000e+05       6.000000    2022.000000\n",
       "75%    4.673353e+07  8.020001e+06  1.000000e+06       9.000000    2022.000000\n",
       "max    9.755427e+07  9.700500e+06  1.000000e+14      12.000000    2023.000000"
      ]
     },
     "execution_count": 48,
     "metadata": {},
     "output_type": "execute_result"
    }
   ],
   "source": [
    "# Descrevendo os dados\n",
    "df.describe()"
   ]
  },
  {
   "cell_type": "code",
   "execution_count": 49,
   "metadata": {},
   "outputs": [
    {
     "data": {
      "text/plain": [
       "CNPJ                                0\n",
       "Nome Fantasia                   22935\n",
       "CNAE                                0\n",
       "Descricao                           0\n",
       "CEP                                97\n",
       "UF                                  0\n",
       "Municipio                           0\n",
       "Matriz/Filial                       0\n",
       "Data da Situação Cadastral          0\n",
       "Situação Cadastral                  0\n",
       "Data de Inicio de Atividades        0\n",
       "Razao Social                        0\n",
       "Capital                             0\n",
       "Porte                               0\n",
       "Natureza Juridica                   0\n",
       "Mes                                 0\n",
       "Ano                                 0\n",
       "dtype: int64"
      ]
     },
     "execution_count": 49,
     "metadata": {},
     "output_type": "execute_result"
    }
   ],
   "source": [
    "# Verificando dados nulos\n",
    "\n",
    "# Pelo fato de termos feito a modelagem dos dados previamente para análises em dashboard, os dados deste df estão em boa condição.\n",
    "\n",
    "# Os dados que estão nulos não serão considerados pelo modelo, então não serão feitos os tratamentos nessas colunas.\n",
    "df.isnull().sum()"
   ]
  },
  {
   "cell_type": "code",
   "execution_count": 50,
   "metadata": {},
   "outputs": [
    {
     "data": {
      "text/html": [
       "<div>\n",
       "<style scoped>\n",
       "    .dataframe tbody tr th:only-of-type {\n",
       "        vertical-align: middle;\n",
       "    }\n",
       "\n",
       "    .dataframe tbody tr th {\n",
       "        vertical-align: top;\n",
       "    }\n",
       "\n",
       "    .dataframe thead th {\n",
       "        text-align: right;\n",
       "    }\n",
       "</style>\n",
       "<table border=\"1\" class=\"dataframe\">\n",
       "  <thead>\n",
       "    <tr style=\"text-align: right;\">\n",
       "      <th></th>\n",
       "      <th>CNAE</th>\n",
       "      <th>UF</th>\n",
       "      <th>Matriz/Filial</th>\n",
       "      <th>Razao Social</th>\n",
       "      <th>Capital</th>\n",
       "      <th>Porte</th>\n",
       "      <th>Natureza Juridica</th>\n",
       "      <th>Situação Cadastral</th>\n",
       "    </tr>\n",
       "  </thead>\n",
       "  <tbody>\n",
       "    <tr>\n",
       "      <th>0</th>\n",
       "      <td>4712100</td>\n",
       "      <td>PB</td>\n",
       "      <td>Matriz</td>\n",
       "      <td>VALQUIRIA LIERGE DE MELO RAMALHO 07238540410</td>\n",
       "      <td>500000</td>\n",
       "      <td>MICRO EMPRESA</td>\n",
       "      <td>Empresário (Individual)</td>\n",
       "      <td>ATIVA</td>\n",
       "    </tr>\n",
       "    <tr>\n",
       "      <th>1</th>\n",
       "      <td>4781400</td>\n",
       "      <td>PA</td>\n",
       "      <td>Matriz</td>\n",
       "      <td>KEIZY RODRIGUES VIEIRA</td>\n",
       "      <td>10000000</td>\n",
       "      <td>MICRO EMPRESA</td>\n",
       "      <td>Empresário (Individual)</td>\n",
       "      <td>ATIVA</td>\n",
       "    </tr>\n",
       "    <tr>\n",
       "      <th>2</th>\n",
       "      <td>4541207</td>\n",
       "      <td>MA</td>\n",
       "      <td>Matriz</td>\n",
       "      <td>CARLOS ANDRE DE OLIVEIRA BRITO 62292509342</td>\n",
       "      <td>500000</td>\n",
       "      <td>MICRO EMPRESA</td>\n",
       "      <td>Empresário (Individual)</td>\n",
       "      <td>ATIVA</td>\n",
       "    </tr>\n",
       "    <tr>\n",
       "      <th>3</th>\n",
       "      <td>9512600</td>\n",
       "      <td>CE</td>\n",
       "      <td>Matriz</td>\n",
       "      <td>JOAO ADAIRLON DE BRITO 07221204357</td>\n",
       "      <td>100000</td>\n",
       "      <td>MICRO EMPRESA</td>\n",
       "      <td>Empresário (Individual)</td>\n",
       "      <td>ATIVA</td>\n",
       "    </tr>\n",
       "    <tr>\n",
       "      <th>4</th>\n",
       "      <td>8230001</td>\n",
       "      <td>MG</td>\n",
       "      <td>Matriz</td>\n",
       "      <td>HERMANO CESAR FONSECA FREITAS 04016182697</td>\n",
       "      <td>100000</td>\n",
       "      <td>MICRO EMPRESA</td>\n",
       "      <td>Empresário (Individual)</td>\n",
       "      <td>ATIVA</td>\n",
       "    </tr>\n",
       "    <tr>\n",
       "      <th>...</th>\n",
       "      <td>...</td>\n",
       "      <td>...</td>\n",
       "      <td>...</td>\n",
       "      <td>...</td>\n",
       "      <td>...</td>\n",
       "      <td>...</td>\n",
       "      <td>...</td>\n",
       "      <td>...</td>\n",
       "    </tr>\n",
       "    <tr>\n",
       "      <th>99995</th>\n",
       "      <td>4772500</td>\n",
       "      <td>SP</td>\n",
       "      <td>Matriz</td>\n",
       "      <td>BUCKINGHAM COSMETICOS LTDA</td>\n",
       "      <td>10000000</td>\n",
       "      <td>DEMAIS</td>\n",
       "      <td>Sociedade Empresária Limitada</td>\n",
       "      <td>ATIVA</td>\n",
       "    </tr>\n",
       "    <tr>\n",
       "      <th>99996</th>\n",
       "      <td>5320202</td>\n",
       "      <td>SP</td>\n",
       "      <td>Matriz</td>\n",
       "      <td>FILIPE MATTES 45311038829</td>\n",
       "      <td>10000</td>\n",
       "      <td>MICRO EMPRESA</td>\n",
       "      <td>Empresário (Individual)</td>\n",
       "      <td>ATIVA</td>\n",
       "    </tr>\n",
       "    <tr>\n",
       "      <th>99997</th>\n",
       "      <td>8219999</td>\n",
       "      <td>SP</td>\n",
       "      <td>Matriz</td>\n",
       "      <td>DEISE SILVA 07281857764</td>\n",
       "      <td>50000</td>\n",
       "      <td>MICRO EMPRESA</td>\n",
       "      <td>Empresário (Individual)</td>\n",
       "      <td>ATIVA</td>\n",
       "    </tr>\n",
       "    <tr>\n",
       "      <th>99998</th>\n",
       "      <td>4923001</td>\n",
       "      <td>RS</td>\n",
       "      <td>Matriz</td>\n",
       "      <td>PAULO CESAR SILVA DOS SANTOS 53777018015</td>\n",
       "      <td>500000</td>\n",
       "      <td>MICRO EMPRESA</td>\n",
       "      <td>Empresário (Individual)</td>\n",
       "      <td>ATIVA</td>\n",
       "    </tr>\n",
       "    <tr>\n",
       "      <th>99999</th>\n",
       "      <td>8112500</td>\n",
       "      <td>RS</td>\n",
       "      <td>Matriz</td>\n",
       "      <td>CENTRO COMERCIAL RD</td>\n",
       "      <td>0</td>\n",
       "      <td>DEMAIS</td>\n",
       "      <td>Condomínio Edilício</td>\n",
       "      <td>ATIVA</td>\n",
       "    </tr>\n",
       "  </tbody>\n",
       "</table>\n",
       "<p>100000 rows × 8 columns</p>\n",
       "</div>"
      ],
      "text/plain": [
       "          CNAE  UF Matriz/Filial  \\\n",
       "0      4712100  PB        Matriz   \n",
       "1      4781400  PA        Matriz   \n",
       "2      4541207  MA        Matriz   \n",
       "3      9512600  CE        Matriz   \n",
       "4      8230001  MG        Matriz   \n",
       "...        ...  ..           ...   \n",
       "99995  4772500  SP        Matriz   \n",
       "99996  5320202  SP        Matriz   \n",
       "99997  8219999  SP        Matriz   \n",
       "99998  4923001  RS        Matriz   \n",
       "99999  8112500  RS        Matriz   \n",
       "\n",
       "                                       Razao Social   Capital          Porte  \\\n",
       "0      VALQUIRIA LIERGE DE MELO RAMALHO 07238540410    500000  MICRO EMPRESA   \n",
       "1                            KEIZY RODRIGUES VIEIRA  10000000  MICRO EMPRESA   \n",
       "2        CARLOS ANDRE DE OLIVEIRA BRITO 62292509342    500000  MICRO EMPRESA   \n",
       "3                JOAO ADAIRLON DE BRITO 07221204357    100000  MICRO EMPRESA   \n",
       "4         HERMANO CESAR FONSECA FREITAS 04016182697    100000  MICRO EMPRESA   \n",
       "...                                             ...       ...            ...   \n",
       "99995                    BUCKINGHAM COSMETICOS LTDA  10000000         DEMAIS   \n",
       "99996                     FILIPE MATTES 45311038829     10000  MICRO EMPRESA   \n",
       "99997                       DEISE SILVA 07281857764     50000  MICRO EMPRESA   \n",
       "99998      PAULO CESAR SILVA DOS SANTOS 53777018015    500000  MICRO EMPRESA   \n",
       "99999                           CENTRO COMERCIAL RD         0         DEMAIS   \n",
       "\n",
       "                   Natureza Juridica Situação Cadastral  \n",
       "0            Empresário (Individual)              ATIVA  \n",
       "1            Empresário (Individual)              ATIVA  \n",
       "2            Empresário (Individual)              ATIVA  \n",
       "3            Empresário (Individual)              ATIVA  \n",
       "4            Empresário (Individual)              ATIVA  \n",
       "...                              ...                ...  \n",
       "99995  Sociedade Empresária Limitada              ATIVA  \n",
       "99996        Empresário (Individual)              ATIVA  \n",
       "99997        Empresário (Individual)              ATIVA  \n",
       "99998        Empresário (Individual)              ATIVA  \n",
       "99999            Condomínio Edilício              ATIVA  \n",
       "\n",
       "[100000 rows x 8 columns]"
      ]
     },
     "execution_count": 50,
     "metadata": {},
     "output_type": "execute_result"
    }
   ],
   "source": [
    "# df.columns\n",
    "df = df[['CNAE', 'UF', 'Matriz/Filial', 'Razao Social', 'Capital', 'Porte', 'Natureza Juridica', 'Situação Cadastral']]\n",
    "df"
   ]
  },
  {
   "cell_type": "code",
   "execution_count": 51,
   "metadata": {},
   "outputs": [
    {
     "data": {
      "image/png": "[encoded data removed]",
      "text/plain": [
       "<Figure size 432x288 with 1 Axes>"
      ]
     },
     "metadata": {
      "needs_background": "light"
     },
     "output_type": "display_data"
    }
   ],
   "source": [
    "plt.boxplot(df[\"Capital\"])\n",
    "plt.show()"
   ]
  },
  {
   "cell_type": "code",
   "execution_count": 53,
   "metadata": {},
   "outputs": [
    {
     "data": {
      "text/plain": [
       "'Os valores são: máx = 99999999999900, min = 0, média = 9630044874.39'"
      ]
     },
     "execution_count": 53,
     "metadata": {},
     "output_type": "execute_result"
    }
   ],
   "source": [
    "# Verificação dos dados máximo e mínimo, além da média\n",
    "\n",
    "mx = df['Capital'].max()\n",
    "mn = df['Capital'].min()\n",
    "mean = df.Capital.mean()\n",
    "\n",
    "f'Os valores são: máx = {mx}, min = {mn}, média = {round(mean, 2)}'"
   ]
  },
  {
   "cell_type": "code",
   "execution_count": 106,
   "metadata": {},
   "outputs": [
    {
     "name": "stdout",
     "output_type": "stream",
     "text": [
      "9630044874.39258\n"
     ]
    },
    {
     "data": {
      "text/plain": [
       "(686138430.6739842,\n",
       " CNAE                  99897\n",
       " UF                    99897\n",
       " Matriz/Filial         99897\n",
       " Razao Social          99897\n",
       " Capital               99897\n",
       " Porte                 99897\n",
       " Natureza Juridica     99897\n",
       " Situação Cadastral    99897\n",
       " dtype: int64)"
      ]
     },
     "execution_count": 106,
     "metadata": {},
     "output_type": "execute_result"
    }
   ],
   "source": [
    "# Verificando e Removendo outliers\n",
    "\n",
    "df_filtered = df.copy() \n",
    "\n",
    "print(df_filtered['Capital'].mean())\n",
    "\n",
    "df_filtered_mean, df_filtered_std = np.mean(df_filtered['Capital']), np.std(df_filtered['Capital'])\n",
    "cut_off = df_filtered_std * 3\n",
    "\n",
    "lower, upper = df_filtered_mean - cut_off, df_filtered_mean + cut_off\n",
    "df_filtered = df_filtered.loc[~((df_filtered['Capital'] < lower) | (df_filtered['Capital'] > upper))]\n",
    "\n",
    "# type(idx[0])\n",
    "df_filtered['Capital'].mean(), df_filtered.count()\n"
   ]
  },
  {
   "attachments": {},
   "cell_type": "markdown",
   "metadata": {},
   "source": [
    "# Análisando os dados\n",
    "\n",
    "Inicialmente, faremos uma verificação de capital por empresas, filtrando por estado e situação cadastral\n",
    "\n",
    "A ideia é entender: quais são os estados com maior capital aplicado em empresas, e se isso se correlaciona com o número de empresas por UF"
   ]
  },
  {
   "cell_type": "code",
   "execution_count": 144,
   "metadata": {},
   "outputs": [
    {
     "data": {
      "image/png": "[encoded data removed]",
      "text/plain": [
       "<Figure size 1440x576 with 2 Axes>"
      ]
     },
     "metadata": {
      "needs_background": "light"
     },
     "output_type": "display_data"
    }
   ],
   "source": [
    "df_filtered['Capital em Milhões'] = df_filtered['Capital'] / 1000000\n",
    "\n",
    "v1 = df_filtered[['UF', 'Capital em Milhões']].groupby(['UF']).sum('Capital em Milhões')\n",
    "v2 = df_filtered[['UF', 'Capital']].groupby(['UF']).count()\n",
    "\n",
    "plt.subplots(figsize=(20,8))\n",
    "\n",
    "plt.subplot(1,2,1)\n",
    "plt.bar(v1['Capital em Milhões'].index, v1['Capital em Milhões'])\n",
    "plt.title(\"Capital (em Mi) por Situação Cadastral\")\n",
    "plt.xticks(rotation=45)\n",
    "plt.xlabel(\"Situação Cadastral\")\n",
    "plt.ylabel(\"Capital (em Mi)\")\n",
    "\n",
    "plt.subplot(1,2,2)\n",
    "plt.bar(v2['Capital'].index, v2['Capital'])\n",
    "plt.title(\"Empresas por Estado\")\n",
    "plt.xticks(rotation=45)\n",
    "plt.xlabel(\"Estado\")\n",
    "plt.ylabel(\"No. de Empresas\")\n",
    "\n",
    "plt.show()\n",
    "# v1['Capital'].index"
   ]
  },
  {
   "attachments": {},
   "cell_type": "markdown",
   "metadata": {},
   "source": [
    "## Respostas\n",
    "\n",
    "Embora, nesta amostra, tenhamos uma disparidade muito grande para as empresas e capital investido em São Paulo, outros estados com um bom número de empresas não apresentam, em contrapartida, um alto capital na soma por UF"
   ]
  },
  {
   "attachments": {},
   "cell_type": "markdown",
   "metadata": {},
   "source": [
    "### Agora, veremos quais são as principais naturezas jurídicas cadastras pelo governo"
   ]
  },
  {
   "cell_type": "code",
   "execution_count": 164,
   "metadata": {},
   "outputs": [
    {
     "data": {
      "text/plain": [
       "Text(0, 0.5, 'Contagem')"
      ]
     },
     "execution_count": 164,
     "metadata": {},
     "output_type": "execute_result"
    },
    {
     "data": {
      "image/png": "[encoded data removed]",
      "text/plain": [
       "<Figure size 432x288 with 1 Axes>"
      ]
     },
     "metadata": {
      "needs_background": "light"
     },
     "output_type": "display_data"
    }
   ],
   "source": [
    "v1 = df_filtered['Natureza Juridica'].value_counts().sort_values(ascending=False).head(5)\n",
    "\n",
    "fig, ax = plt.subplots()\n",
    "\n",
    "bars =  ax.bar(v1.index, v1.values)\n",
    "ax.bar_label(bars)\n",
    "\n",
    "plt.bar(v1.index, v1.values)\n",
    "plt.title(\"Top 5 Naturezas Jurídicas\")\n",
    "plt.xticks(rotation=90)\n",
    "plt.xlabel(\"Natureza Jurídica\")\n",
    "plt.ylabel(\"Contagem\")"
   ]
  },
  {
   "attachments": {},
   "cell_type": "markdown",
   "metadata": {},
   "source": [
    "Podemos ver que, com os dados estando circundados ao perído pré (2018-29), pandemia e pós-pandemia, o número de empresários individuais tem um número 434% maior "
   ]
  },
  {
   "attachments": {},
   "cell_type": "markdown",
   "metadata": {},
   "source": [
    "Os dados presentes no dataframe mostram empresas criadas de 2018 em diante, mas quantas se encontram ativas atualmente?"
   ]
  },
  {
   "cell_type": "code",
   "execution_count": 165,
   "metadata": {},
   "outputs": [
    {
     "data": {
      "image/png": "[encoded data removed]",
      "text/plain": [
       "<Figure size 432x288 with 1 Axes>"
      ]
     },
     "metadata": {
      "needs_background": "light"
     },
     "output_type": "display_data"
    }
   ],
   "source": [
    "v1 = df_filtered['Situação Cadastral'].value_counts().sort_values(ascending=False)\n",
    "\n",
    "fig, ax = plt.subplots()\n",
    "\n",
    "bars =  ax.bar(v1.index, v1.values)\n",
    "ax.bar_label(bars)\n",
    "\n",
    "plt.bar(v1.index, v1.values)\n",
    "plt.title(\"Número de Empresas por Situação Cadastral\")\n",
    "plt.xticks(rotation=90)\n",
    "plt.xlabel(\"Natureza Jurídica\")\n",
    "plt.ylabel(\"Contagem\")\n",
    "\n",
    "plt.tight_layout()"
   ]
  },
  {
   "cell_type": "code",
   "execution_count": 194,
   "metadata": {},
   "outputs": [
    {
     "data": {
      "text/plain": [
       "'Atualmente, das empresas criadas a partir de 2018, CNAE                  0.836832\\nUF                    0.836832\\nMatriz/Filial         0.836832\\nRazao Social          0.836832\\nCapital               0.836832\\nPorte                 0.836832\\nNatureza Juridica     0.836832\\nSituação Cadastral    0.836832\\nCapital em Milhões    0.836832\\ndtype: float64% das empresa estão ativas, num total de CNAE                  83597\\nUF                    83597\\nMatriz/Filial         83597\\nRazao Social          83597\\nCapital               83597\\nPorte                 83597\\nNatureza Juridica     83597\\nSituação Cadastral    83597\\nCapital em Milhões    83597\\ndtype: int64'"
      ]
     },
     "execution_count": 194,
     "metadata": {},
     "output_type": "execute_result"
    }
   ],
   "source": [
    "pct = df_filtered[df_filtered['Situação Cadastral'] == 'ATIVA'].count() / df_filtered.count()\n",
    "ativo = df_filtered[df_filtered['Situação Cadastral'] == 'ATIVA'].count()\n",
    "\n",
    "f'Atualmente, das empresas criadas a partir de 2018, {pct}% das empresa estão ativas, num total de {ativo}'"
   ]
  },
  {
   "cell_type": "code",
   "execution_count": 195,
   "metadata": {},
   "outputs": [],
   "source": [
    "# Pré-processamento\n",
    "# De forma a ajudar o modelo de machine learning a tomar a melhor decisão, iremos transformar os dados quantitativos de capital em intervalos\n",
    "\n",
    "# df_test = df_filtered.copy()\n",
    "\n",
    "for n in df_filtered['Capital']:\n",
    "    if n < 100000:\n",
    "        df_filtered['Interval'] = 'Menor que 100k'\n",
    "    elif (n >= 100000) and (n < 500000):\n",
    "        df_filtered['Interval'] = 'Entre 100k e 500k' \n",
    "    elif (n >= 500000) and (n < 1000000):\n",
    "        df_filtered['Interval'] = 'Entre 500k e 1M' \n",
    "    else:\n",
    "        df_filtered['Interval'] = 'Maior que 1M'\n"
   ]
  },
  {
   "attachments": {},
   "cell_type": "markdown",
   "metadata": {},
   "source": [
    "## Conversão de dados categóricos para numéricos"
   ]
  },
  {
   "cell_type": "code",
   "execution_count": 207,
   "metadata": {},
   "outputs": [
    {
     "data": {
      "text/html": [
       "<div>\n",
       "<style scoped>\n",
       "    .dataframe tbody tr th:only-of-type {\n",
       "        vertical-align: middle;\n",
       "    }\n",
       "\n",
       "    .dataframe tbody tr th {\n",
       "        vertical-align: top;\n",
       "    }\n",
       "\n",
       "    .dataframe thead th {\n",
       "        text-align: right;\n",
       "    }\n",
       "</style>\n",
       "<table border=\"1\" class=\"dataframe\">\n",
       "  <thead>\n",
       "    <tr style=\"text-align: right;\">\n",
       "      <th></th>\n",
       "      <th>UF</th>\n",
       "      <th>Matriz/Filial</th>\n",
       "      <th>Porte</th>\n",
       "      <th>Natureza Juridica</th>\n",
       "      <th>Situação Cadastral</th>\n",
       "      <th>Interval</th>\n",
       "    </tr>\n",
       "  </thead>\n",
       "  <tbody>\n",
       "    <tr>\n",
       "      <th>0</th>\n",
       "      <td>15</td>\n",
       "      <td>1</td>\n",
       "      <td>2</td>\n",
       "      <td>13</td>\n",
       "      <td>0</td>\n",
       "      <td>0</td>\n",
       "    </tr>\n",
       "    <tr>\n",
       "      <th>1</th>\n",
       "      <td>14</td>\n",
       "      <td>1</td>\n",
       "      <td>2</td>\n",
       "      <td>13</td>\n",
       "      <td>0</td>\n",
       "      <td>0</td>\n",
       "    </tr>\n",
       "    <tr>\n",
       "      <th>2</th>\n",
       "      <td>10</td>\n",
       "      <td>1</td>\n",
       "      <td>2</td>\n",
       "      <td>13</td>\n",
       "      <td>0</td>\n",
       "      <td>0</td>\n",
       "    </tr>\n",
       "    <tr>\n",
       "      <th>3</th>\n",
       "      <td>5</td>\n",
       "      <td>1</td>\n",
       "      <td>2</td>\n",
       "      <td>13</td>\n",
       "      <td>0</td>\n",
       "      <td>0</td>\n",
       "    </tr>\n",
       "    <tr>\n",
       "      <th>4</th>\n",
       "      <td>11</td>\n",
       "      <td>1</td>\n",
       "      <td>2</td>\n",
       "      <td>13</td>\n",
       "      <td>0</td>\n",
       "      <td>0</td>\n",
       "    </tr>\n",
       "    <tr>\n",
       "      <th>...</th>\n",
       "      <td>...</td>\n",
       "      <td>...</td>\n",
       "      <td>...</td>\n",
       "      <td>...</td>\n",
       "      <td>...</td>\n",
       "      <td>...</td>\n",
       "    </tr>\n",
       "    <tr>\n",
       "      <th>99995</th>\n",
       "      <td>26</td>\n",
       "      <td>1</td>\n",
       "      <td>0</td>\n",
       "      <td>29</td>\n",
       "      <td>0</td>\n",
       "      <td>0</td>\n",
       "    </tr>\n",
       "    <tr>\n",
       "      <th>99996</th>\n",
       "      <td>26</td>\n",
       "      <td>1</td>\n",
       "      <td>2</td>\n",
       "      <td>13</td>\n",
       "      <td>0</td>\n",
       "      <td>0</td>\n",
       "    </tr>\n",
       "    <tr>\n",
       "      <th>99997</th>\n",
       "      <td>26</td>\n",
       "      <td>1</td>\n",
       "      <td>2</td>\n",
       "      <td>13</td>\n",
       "      <td>0</td>\n",
       "      <td>0</td>\n",
       "    </tr>\n",
       "    <tr>\n",
       "      <th>99998</th>\n",
       "      <td>23</td>\n",
       "      <td>1</td>\n",
       "      <td>2</td>\n",
       "      <td>13</td>\n",
       "      <td>0</td>\n",
       "      <td>0</td>\n",
       "    </tr>\n",
       "    <tr>\n",
       "      <th>99999</th>\n",
       "      <td>23</td>\n",
       "      <td>1</td>\n",
       "      <td>0</td>\n",
       "      <td>4</td>\n",
       "      <td>0</td>\n",
       "      <td>0</td>\n",
       "    </tr>\n",
       "  </tbody>\n",
       "</table>\n",
       "<p>99897 rows × 6 columns</p>\n",
       "</div>"
      ],
      "text/plain": [
       "       UF  Matriz/Filial  Porte  Natureza Juridica  Situação Cadastral  \\\n",
       "0      15              1      2                 13                   0   \n",
       "1      14              1      2                 13                   0   \n",
       "2      10              1      2                 13                   0   \n",
       "3       5              1      2                 13                   0   \n",
       "4      11              1      2                 13                   0   \n",
       "...    ..            ...    ...                ...                 ...   \n",
       "99995  26              1      0                 29                   0   \n",
       "99996  26              1      2                 13                   0   \n",
       "99997  26              1      2                 13                   0   \n",
       "99998  23              1      2                 13                   0   \n",
       "99999  23              1      0                  4                   0   \n",
       "\n",
       "       Interval  \n",
       "0             0  \n",
       "1             0  \n",
       "2             0  \n",
       "3             0  \n",
       "4             0  \n",
       "...         ...  \n",
       "99995         0  \n",
       "99996         0  \n",
       "99997         0  \n",
       "99998         0  \n",
       "99999         0  \n",
       "\n",
       "[99897 rows x 6 columns]"
      ]
     },
     "execution_count": 207,
     "metadata": {},
     "output_type": "execute_result"
    }
   ],
   "source": [
    "from sklearn import preprocessing\n",
    "\n",
    "label_encoder = preprocessing.LabelEncoder()\n",
    "\n",
    "df_ml = df_filtered.copy()\n",
    "df_ml = df_ml.drop(columns=['CNAE', 'Razao Social', 'Capital', 'Capital em Milhões']) #, inplace=True\n",
    "df_ml['Situação Cadastral'] = label_encoder.fit_transform(df_ml['Situação Cadastral'])\n",
    "df_ml['UF'] = label_encoder.fit_transform(df_ml['UF'])\n",
    "df_ml['Matriz/Filial'] = label_encoder.fit_transform(df_ml['Matriz/Filial'])\n",
    "df_ml['Interval'] = label_encoder.fit_transform(df_ml['Interval'])\n",
    "df_ml['Porte'] = label_encoder.fit_transform(df_ml['Porte'])\n",
    "df_ml['Natureza Juridica'] = label_encoder.fit_transform(df_ml['Natureza Juridica'])\n",
    "df_ml['Situação Cadastral'] = label_encoder.fit_transform(df_ml['Situação Cadastral'])\n",
    "\n",
    "df_ml"
   ]
  },
  {
   "attachments": {},
   "cell_type": "markdown",
   "metadata": {},
   "source": [
    "### Criando uma lista de algoritmos para comparação e fazendo um split de dados de teste e treino"
   ]
  },
  {
   "cell_type": "code",
   "execution_count": 230,
   "metadata": {},
   "outputs": [],
   "source": [
    "x = df_ml.drop(columns=['Situação Cadastral'])\n",
    "y = df_ml['Situação Cadastral']\n",
    "\n",
    "x_train, x_test, y_train, y_test = train_test_split(x, y, test_size= 0.25, random_state = 0)"
   ]
  },
  {
   "cell_type": "code",
   "execution_count": 216,
   "metadata": {},
   "outputs": [],
   "source": [
    "# Criação dos modelos convencionais:\n",
    "lista_modelos = [GaussianNB(),\n",
    "                 DecisionTreeClassifier(),\n",
    "                 SVC(),\n",
    "                 RandomForestClassifier(n_estimators = 500),\n",
    "                 KNeighborsClassifier(n_neighbors=3),\n",
    "                 XGBClassifier()\n",
    "                ]\n",
    "for modelo in lista_modelos:\n",
    "    modelo.fit(x_train, y_train)"
   ]
  },
  {
   "cell_type": "code",
   "execution_count": 233,
   "metadata": {},
   "outputs": [
    {
     "name": "stderr",
     "output_type": "stream",
     "text": [
      "c:\\Users\\sergi\\AppData\\Local\\Programs\\Python\\Python39\\lib\\site-packages\\sklearn\\model_selection\\_split.py:700: UserWarning: The least populated class in y has only 3 members, which is less than n_splits=10.\n",
      "  warnings.warn(\n",
      "c:\\Users\\sergi\\AppData\\Local\\Programs\\Python\\Python39\\lib\\site-packages\\sklearn\\model_selection\\_split.py:700: UserWarning: The least populated class in y has only 3 members, which is less than n_splits=10.\n",
      "  warnings.warn(\n"
     ]
    },
    {
     "name": "stdout",
     "output_type": "stream",
     "text": [
      "GaussianNB() 0.11390950165017877\n",
      "DecisionTreeClassifier() 0.8404803939266753\n"
     ]
    },
    {
     "name": "stderr",
     "output_type": "stream",
     "text": [
      "c:\\Users\\sergi\\AppData\\Local\\Programs\\Python\\Python39\\lib\\site-packages\\sklearn\\model_selection\\_split.py:700: UserWarning: The least populated class in y has only 3 members, which is less than n_splits=10.\n",
      "  warnings.warn(\n"
     ]
    },
    {
     "name": "stdout",
     "output_type": "stream",
     "text": [
      "SVC() 0.8380781036523253\n"
     ]
    },
    {
     "name": "stderr",
     "output_type": "stream",
     "text": [
      "c:\\Users\\sergi\\AppData\\Local\\Programs\\Python\\Python39\\lib\\site-packages\\sklearn\\model_selection\\_split.py:700: UserWarning: The least populated class in y has only 3 members, which is less than n_splits=10.\n",
      "  warnings.warn(\n"
     ]
    },
    {
     "name": "stdout",
     "output_type": "stream",
     "text": [
      "RandomForestClassifier(n_estimators=500) 0.8400800576384215\n"
     ]
    },
    {
     "name": "stderr",
     "output_type": "stream",
     "text": [
      "c:\\Users\\sergi\\AppData\\Local\\Programs\\Python\\Python39\\lib\\site-packages\\sklearn\\model_selection\\_split.py:700: UserWarning: The least populated class in y has only 3 members, which is less than n_splits=10.\n",
      "  warnings.warn(\n"
     ]
    },
    {
     "name": "stdout",
     "output_type": "stream",
     "text": [
      "KNeighborsClassifier(n_neighbors=3) 0.7701773433163832\n"
     ]
    },
    {
     "name": "stderr",
     "output_type": "stream",
     "text": [
      "c:\\Users\\sergi\\AppData\\Local\\Programs\\Python\\Python39\\lib\\site-packages\\sklearn\\model_selection\\_split.py:700: UserWarning: The least populated class in y has only 3 members, which is less than n_splits=10.\n",
      "  warnings.warn(\n"
     ]
    },
    {
     "name": "stdout",
     "output_type": "stream",
     "text": [
      "XGBClassifier(base_score=None, booster=None, callbacks=None,\n",
      "              colsample_bylevel=None, colsample_bynode=None,\n",
      "              colsample_bytree=None, early_stopping_rounds=None,\n",
      "              enable_categorical=False, eval_metric=None, feature_types=None,\n",
      "              gamma=None, gpu_id=None, grow_policy=None, importance_type=None,\n",
      "              interaction_constraints=None, learning_rate=None, max_bin=None,\n",
      "              max_cat_threshold=None, max_cat_to_onehot=None,\n",
      "              max_delta_step=None, max_depth=None, max_leaves=None,\n",
      "              min_child_weight=None, missing=nan, monotone_constraints=None,\n",
      "              n_estimators=100, n_jobs=None, num_parallel_tree=None,\n",
      "              objective='multi:softprob', predictor=None, ...) 0.8406405540932547\n"
     ]
    }
   ],
   "source": [
    "from sklearn.model_selection import cross_val_score\n",
    "\n",
    "lista_modelos = [GaussianNB(),\n",
    "                 DecisionTreeClassifier(),\n",
    "                 SVC(),\n",
    "                 RandomForestClassifier(n_estimators = 500),\n",
    "                 KNeighborsClassifier(n_neighbors=3),\n",
    "                 XGBClassifier()\n",
    "                ]\n",
    "\n",
    "for modelo in lista_modelos:\n",
    "    modelo.fit(x_train, y_train)\n",
    "    val_res_clf = cross_val_score(modelo, x_test, y_test, cv=10)\n",
    "    print(modelo, val_res_clf.mean())"
   ]
  },
  {
   "cell_type": "code",
   "execution_count": 217,
   "metadata": {},
   "outputs": [],
   "source": [
    "# Previsões\n",
    "previsoes = []\n",
    "taxa_acerto = []\n",
    "for modelo in lista_modelos:\n",
    "    previsoes.append(modelo.predict(x_test))\n",
    "    taxa_acerto.append(accuracy_score(y_test, previsoes[-1]))"
   ]
  },
  {
   "attachments": {},
   "cell_type": "markdown",
   "metadata": {},
   "source": [
    "## Métricas de desempenho para os modelos utilizados:"
   ]
  },
  {
   "cell_type": "code",
   "execution_count": 223,
   "metadata": {},
   "outputs": [
    {
     "data": {
      "text/plain": [
       "([0, 1, 2, 3, 4, 5],\n",
       " [Text(0, 0, ''),\n",
       "  Text(0, 0, ''),\n",
       "  Text(0, 0, ''),\n",
       "  Text(0, 0, ''),\n",
       "  Text(0, 0, ''),\n",
       "  Text(0, 0, '')])"
      ]
     },
     "execution_count": 223,
     "metadata": {},
     "output_type": "execute_result"
    },
    {
     "data": {
      "image/png": "[encoded data removed]",
      "text/plain": [
       "<Figure size 432x288 with 1 Axes>"
      ]
     },
     "metadata": {
      "needs_background": "light"
     },
     "output_type": "display_data"
    }
   ],
   "source": [
    "models = [\"NaiveBayes\", \"Árvores de Decisão\", \"SVC\", \"RandomForest\", \"KNN\",\"XGBoost\"]\n",
    "df_res = pd.DataFrame({\"Modelos\":models, \"TxAcerto\":taxa_acerto})\n",
    "df_res = df_res.set_index(\"Modelos\")\n",
    "grafico = df_res.TxAcerto.sort_values(ascending=False)\n",
    "\n",
    "fig, ax = plt.subplots()\n",
    "\n",
    "bars = ax.bar(models, grafico)\n",
    "ax.bar_label(bars)\n",
    "\n",
    "plt.xticks(rotation=45)\n",
    "# plt.figure(figsize=(15,3))\n",
    "# plt.bar(grafico.index, grafico.values)\n",
    "# plt.title(\"Modelo x Taxa de Acerto\")\n",
    "# plt.show()"
   ]
  },
  {
   "attachments": {},
   "cell_type": "markdown",
   "metadata": {},
   "source": [
    "Como o algoritmo de melhor acerto foi o de Arvore de Decisão (veja a Cross Vaidation), ele será transportado para ser feito o deploy\n",
    "\n",
    "Faremos também um detalhamento sobre o modelo, trazendo a média de validação sobre cross validation\n"
   ]
  },
  {
   "cell_type": "code",
   "execution_count": 237,
   "metadata": {},
   "outputs": [],
   "source": [
    "Dtree = DecisionTreeClassifier().fit(x_train, y_train)"
   ]
  },
  {
   "cell_type": "code",
   "execution_count": 238,
   "metadata": {},
   "outputs": [],
   "source": [
    "#saving model\n",
    "import pickle\n",
    "import pathlib\n",
    "pickle.dump(Dtree, open(pathlib.Path.cwd() / 'clf_pji4.pkl', 'wb'))\n",
    "\n",
    "# pathlib.Path.cwd()"
   ]
  }
 ],
 "metadata": {
  "kernelspec": {
   "display_name": "Python 3",
   "language": "python",
   "name": "python3"
  },
  "language_info": {
   "codemirror_mode": {
    "name": "ipython",
    "version": 3
   },
   "file_extension": ".py",
   "mimetype": "text/x-python",
   "name": "python",
   "nbconvert_exporter": "python",
   "pygments_lexer": "ipython3",
   "version": "3.9.7"
  },
  "orig_nbformat": 4,
  "vscode": {
   "interpreter": {
    "hash": "27b2090550f3cccc1560abb4e45fee0d0fcc48c8b373720b97ea404413d1d838"
   }
  }
 },
 "nbformat": 4,
 "nbformat_minor": 2
}
