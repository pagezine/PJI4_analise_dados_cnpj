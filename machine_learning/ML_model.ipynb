{
 "cells": [
  {
   "attachments": {},
   "cell_type": "markdown",
   "metadata": {},
   "source": [
    "## Imports para análise e limpeza dos dados"
   ]
  },
  {
   "cell_type": "code",
   "execution_count": 104,
   "metadata": {},
   "outputs": [],
   "source": [
    "import pandas_gbq       as pg\n",
    "import pandas           as pd\n",
    "import numpy            as np\n",
    "import matplotlib.pylab as plt\n",
    "import plotly.express   as px\n",
    "import seaborn          as sns\n",
    "\n",
    "from   google.oauth2    import service_account\n",
    "import pickle\n",
    "import pathlib\n",
    "import json\n",
    "import os\n",
    "import base64\n",
    "import logging\n",
    "import traceback\n",
    "\n",
    "from   dotenv           import load_dotenv\n"
   ]
  },
  {
   "attachments": {},
   "cell_type": "markdown",
   "metadata": {},
   "source": [
    "## Imports para Machine Learning"
   ]
  },
  {
   "cell_type": "code",
   "execution_count": 105,
   "metadata": {},
   "outputs": [],
   "source": [
    "# Pré-processamento e divisão para treino e testes\n",
    "from sklearn                 import preprocessing\n",
    "from sklearn.model_selection import train_test_split\n",
    "\n",
    "# Algoritmos para seleção do melhor modelo de ML\n",
    "from sklearn.naive_bayes     import GaussianNB\n",
    "from sklearn.tree            import DecisionTreeClassifier\n",
    "from sklearn.svm             import SVC\n",
    "from sklearn.ensemble        import RandomForestClassifier\n",
    "from sklearn.neighbors       import KNeighborsClassifier\n",
    "from xgboost                 import XGBClassifier\n",
    "\n",
    "# Métricas para validação de cada modelo\n",
    "from sklearn.metrics         import confusion_matrix, accuracy_score\n",
    "from sklearn.metrics         import mean_absolute_error\n",
    "from sklearn.model_selection import cross_val_score\n",
    "from sklearn.model_selection import GridSearchCV"
   ]
  },
  {
   "cell_type": "code",
   "execution_count": 106,
   "metadata": {},
   "outputs": [],
   "source": [
    "# environment variables loading\n",
    "load_dotenv()\n",
    "\n",
    "logger = logging.getLogger()\n",
    "handler = logging.StreamHandler()\n",
    "logger.addHandler(handler)\n",
    "logger.setLevel(logging.DEBUG)\n",
    "\n",
    "# Query do dataset que será base para o modelo\n",
    "sql_no_com = \"\"\"\n",
    "select * \n",
    "from `civic-athlete-325820.pji4.dataset_analysis`\n",
    "\n",
    "limit 100000\n",
    "\"\"\"\n"
   ]
  },
  {
   "attachments": {},
   "cell_type": "markdown",
   "metadata": {},
   "source": [
    "## Leitura do Dataset"
   ]
  },
  {
   "cell_type": "code",
   "execution_count": 107,
   "metadata": {},
   "outputs": [
    {
     "name": "stderr",
     "output_type": "stream",
     "text": [
      "Requesting query... \n",
      "Requesting query... \n",
      "Requesting query... \n",
      "Converted retries value: 3 -> Retry(total=3, connect=None, read=None, redirect=None, status=None)\n",
      "Converted retries value: 3 -> Retry(total=3, connect=None, read=None, redirect=None, status=None)\n",
      "Converted retries value: 3 -> Retry(total=3, connect=None, read=None, redirect=None, status=None)\n",
      "Making request: POST https://oauth2.googleapis.com/token\n",
      "Making request: POST https://oauth2.googleapis.com/token\n",
      "Making request: POST https://oauth2.googleapis.com/token\n",
      "Starting new HTTPS connection (1): oauth2.googleapis.com:443\n",
      "Starting new HTTPS connection (1): oauth2.googleapis.com:443\n",
      "Starting new HTTPS connection (1): oauth2.googleapis.com:443\n"
     ]
    },
    {
     "name": "stdout",
     "output_type": "stream",
     "text": [
      "Running\n"
     ]
    },
    {
     "name": "stderr",
     "output_type": "stream",
     "text": [
      "https://oauth2.googleapis.com:443 \"POST /token HTTP/1.1\" 200 None\n",
      "https://oauth2.googleapis.com:443 \"POST /token HTTP/1.1\" 200 None\n",
      "https://oauth2.googleapis.com:443 \"POST /token HTTP/1.1\" 200 None\n",
      "Starting new HTTPS connection (1): bigquery.googleapis.com:443\n",
      "Starting new HTTPS connection (1): bigquery.googleapis.com:443\n",
      "Starting new HTTPS connection (1): bigquery.googleapis.com:443\n",
      "https://bigquery.googleapis.com:443 \"POST /bigquery/v2/projects/civic-athlete-325820/jobs?prettyPrint=false HTTP/1.1\" 200 None\n",
      "https://bigquery.googleapis.com:443 \"POST /bigquery/v2/projects/civic-athlete-325820/jobs?prettyPrint=false HTTP/1.1\" 200 None\n",
      "https://bigquery.googleapis.com:443 \"POST /bigquery/v2/projects/civic-athlete-325820/jobs?prettyPrint=false HTTP/1.1\" 200 None\n",
      "Query running...\n",
      "Query running...\n",
      "Query running...\n",
      "Job ID: 7be9074b-0e59-4e28-89bc-992f6bd0e9f8\n",
      "Job ID: 7be9074b-0e59-4e28-89bc-992f6bd0e9f8\n",
      "Job ID: 7be9074b-0e59-4e28-89bc-992f6bd0e9f8\n",
      "Query done.\n",
      "Cache hit.\n",
      "\n",
      "Query done.\n",
      "Cache hit.\n",
      "\n",
      "Query done.\n",
      "Cache hit.\n",
      "\n",
      "https://bigquery.googleapis.com:443 \"GET /bigquery/v2/projects/civic-athlete-325820/queries/7be9074b-0e59-4e28-89bc-992f6bd0e9f8?maxResults=0&location=US&prettyPrint=false HTTP/1.1\" 200 None\n",
      "https://bigquery.googleapis.com:443 \"GET /bigquery/v2/projects/civic-athlete-325820/queries/7be9074b-0e59-4e28-89bc-992f6bd0e9f8?maxResults=0&location=US&prettyPrint=false HTTP/1.1\" 200 None\n",
      "https://bigquery.googleapis.com:443 \"GET /bigquery/v2/projects/civic-athlete-325820/queries/7be9074b-0e59-4e28-89bc-992f6bd0e9f8?maxResults=0&location=US&prettyPrint=false HTTP/1.1\" 200 None\n",
      "https://bigquery.googleapis.com:443 \"GET /bigquery/v2/projects/civic-athlete-325820/datasets/_826a8878fb6ce8e27327e8909de23ec7cadc2e1c/tables/anon7a1843f708dc0b7dd3eefc7f94e8038e163285cfbd695cb9945149613cc2cc6e?prettyPrint=false HTTP/1.1\" 200 None\n",
      "https://bigquery.googleapis.com:443 \"GET /bigquery/v2/projects/civic-athlete-325820/datasets/_826a8878fb6ce8e27327e8909de23ec7cadc2e1c/tables/anon7a1843f708dc0b7dd3eefc7f94e8038e163285cfbd695cb9945149613cc2cc6e?prettyPrint=false HTTP/1.1\" 200 None\n",
      "https://bigquery.googleapis.com:443 \"GET /bigquery/v2/projects/civic-athlete-325820/datasets/_826a8878fb6ce8e27327e8909de23ec7cadc2e1c/tables/anon7a1843f708dc0b7dd3eefc7f94e8038e163285cfbd695cb9945149613cc2cc6e?prettyPrint=false HTTP/1.1\" 200 None\n"
     ]
    },
    {
     "name": "stdout",
     "output_type": "stream",
     "text": [
      "Downloading:   0%|\u001b[32m          \u001b[0m|"
     ]
    },
    {
     "name": "stderr",
     "output_type": "stream",
     "text": [
      "https://bigquery.googleapis.com:443 \"GET /bigquery/v2/projects/civic-athlete-325820/datasets/_826a8878fb6ce8e27327e8909de23ec7cadc2e1c/tables/anon7a1843f708dc0b7dd3eefc7f94e8038e163285cfbd695cb9945149613cc2cc6e/data?formatOptions.useInt64Timestamp=True&prettyPrint=false HTTP/1.1\" 200 None\n",
      "https://bigquery.googleapis.com:443 \"GET /bigquery/v2/projects/civic-athlete-325820/datasets/_826a8878fb6ce8e27327e8909de23ec7cadc2e1c/tables/anon7a1843f708dc0b7dd3eefc7f94e8038e163285cfbd695cb9945149613cc2cc6e/data?formatOptions.useInt64Timestamp=True&prettyPrint=false HTTP/1.1\" 200 None\n",
      "https://bigquery.googleapis.com:443 \"GET /bigquery/v2/projects/civic-athlete-325820/datasets/_826a8878fb6ce8e27327e8909de23ec7cadc2e1c/tables/anon7a1843f708dc0b7dd3eefc7f94e8038e163285cfbd695cb9945149613cc2cc6e/data?formatOptions.useInt64Timestamp=True&prettyPrint=false HTTP/1.1\" 200 None\n"
     ]
    },
    {
     "name": "stdout",
     "output_type": "stream",
     "text": [
      "Downloading:  38%|\u001b[32m███▊      \u001b[0m|"
     ]
    },
    {
     "name": "stderr",
     "output_type": "stream",
     "text": [
      "https://bigquery.googleapis.com:443 \"GET /bigquery/v2/projects/civic-athlete-325820/datasets/_826a8878fb6ce8e27327e8909de23ec7cadc2e1c/tables/anon7a1843f708dc0b7dd3eefc7f94e8038e163285cfbd695cb9945149613cc2cc6e/data?pageToken=BFF73L3DQ4AQAAASAUIIBAEAAUNAUCG7VIBBB777777QOIH777777777777X6KQAJKQQECTSBIPQUFDDNF3GSYZNMF2GQ3DFORSS2MZSGU4DEMARL5NZBH6WAAAAAERJL44DENTBHA4DOODGMI3GGZJYMUZDOMZSG5STQOJQHFSGKMRTMVRTOY3BMRRTEZJRMMNCINZUG4YGMOBUGIWTIZBTMEWTIMRQMEWTQNZXMMWTEYJQMU2TCMLEGAYGKYISIRQW433OG5QTCOBUGNTDOMBYMRRTAYRXMRSDGZLFMZRTOZRZGRSTQMBTHBSTCNRTGI4DKY3GMJSDMOJVMNRDSOJUGUYTIOJWGEZWGYZSMNRTMZI2MU3WCMJYGQZWMNZQHBSGGMDCG5SGIM3FMVTGGN3GHE2GKOBQGM4GKMJWGMZDQNLDMZRGINRZGVRWEOJZGQ2TCNBZGYYTGY3DGJRWGNTFEM3WMMRTMI4GGZRNHBRGGNRNGQ3TSOJNMI2DAYRNME3GIZRXGNRDOMRTMQYQ%3D%3D%3D%3D&formatOptions.useInt64Timestamp=True&prettyPrint=false HTTP/1.1\" 200 None\n",
      "https://bigquery.googleapis.com:443 \"GET /bigquery/v2/projects/civic-athlete-325820/datasets/_826a8878fb6ce8e27327e8909de23ec7cadc2e1c/tables/anon7a1843f708dc0b7dd3eefc7f94e8038e163285cfbd695cb9945149613cc2cc6e/data?pageToken=BFF73L3DQ4AQAAASAUIIBAEAAUNAUCG7VIBBB777777QOIH777777777777X6KQAJKQQECTSBIPQUFDDNF3GSYZNMF2GQ3DFORSS2MZSGU4DEMARL5NZBH6WAAAAAERJL44DENTBHA4DOODGMI3GGZJYMUZDOMZSG5STQOJQHFSGKMRTMVRTOY3BMRRTEZJRMMNCINZUG4YGMOBUGIWTIZBTMEWTIMRQMEWTQNZXMMWTEYJQMU2TCMLEGAYGKYISIRQW433OG5QTCOBUGNTDOMBYMRRTAYRXMRSDGZLFMZRTOZRZGRSTQMBTHBSTCNRTGI4DKY3GMJSDMOJVMNRDSOJUGUYTIOJWGEZWGYZSMNRTMZI2MU3WCMJYGQZWMNZQHBSGGMDCG5SGIM3FMVTGGN3GHE2GKOBQGM4GKMJWGMZDQNLDMZRGINRZGVRWEOJZGQ2TCNBZGYYTGY3DGJRWGNTFEM3WMMRTMI4GGZRNHBRGGNRNGQ3TSOJNMI2DAYRNME3GIZRXGNRDOMRTMQYQ%3D%3D%3D%3D&formatOptions.useInt64Timestamp=True&prettyPrint=false HTTP/1.1\" 200 None\n",
      "https://bigquery.googleapis.com:443 \"GET /bigquery/v2/projects/civic-athlete-325820/datasets/_826a8878fb6ce8e27327e8909de23ec7cadc2e1c/tables/anon7a1843f708dc0b7dd3eefc7f94e8038e163285cfbd695cb9945149613cc2cc6e/data?pageToken=BFF73L3DQ4AQAAASAUIIBAEAAUNAUCG7VIBBB777777QOIH777777777777X6KQAJKQQECTSBIPQUFDDNF3GSYZNMF2GQ3DFORSS2MZSGU4DEMARL5NZBH6WAAAAAERJL44DENTBHA4DOODGMI3GGZJYMUZDOMZSG5STQOJQHFSGKMRTMVRTOY3BMRRTEZJRMMNCINZUG4YGMOBUGIWTIZBTMEWTIMRQMEWTQNZXMMWTEYJQMU2TCMLEGAYGKYISIRQW433OG5QTCOBUGNTDOMBYMRRTAYRXMRSDGZLFMZRTOZRZGRSTQMBTHBSTCNRTGI4DKY3GMJSDMOJVMNRDSOJUGUYTIOJWGEZWGYZSMNRTMZI2MU3WCMJYGQZWMNZQHBSGGMDCG5SGIM3FMVTGGN3GHE2GKOBQGM4GKMJWGMZDQNLDMZRGINRZGVRWEOJZGQ2TCNBZGYYTGY3DGJRWGNTFEM3WMMRTMI4GGZRNHBRGGNRNGQ3TSOJNMI2DAYRNME3GIZRXGNRDOMRTMQYQ%3D%3D%3D%3D&formatOptions.useInt64Timestamp=True&prettyPrint=false HTTP/1.1\" 200 None\n"
     ]
    },
    {
     "name": "stdout",
     "output_type": "stream",
     "text": [
      "Downloading:  76%|\u001b[32m███████▋  \u001b[0m|"
     ]
    },
    {
     "name": "stderr",
     "output_type": "stream",
     "text": [
      "https://bigquery.googleapis.com:443 \"GET /bigquery/v2/projects/civic-athlete-325820/datasets/_826a8878fb6ce8e27327e8909de23ec7cadc2e1c/tables/anon7a1843f708dc0b7dd3eefc7f94e8038e163285cfbd695cb9945149613cc2cc6e/data?pageToken=BFF73L3DQ4AQAAASAUIIBAEAAUNAUCFF2UCBB777777QOIH777777777777X6KQAJKQQECTSBIPQUFDDNF3GSYZNMF2GQ3DFORSS2MZSGU4DEMARL5NZBH6WAAAAAERJL44DENTBHA4DOODGMI3GGZJYMUZDOMZSG5STQOJQHFSGKMRTMVRTOY3BMRRTEZJRMMNCINZUG4YGMOBUGIWTIZBTMEWTIMRQMEWTQNZXMMWTEYJQMU2TCMLEGAYGKYISIRQW433OG5QTCOBUGNTDOMBYMRRTAYRXMRSDGZLFMZRTOZRZGRSTQMBTHBSTCNRTGI4DKY3GMJSDMOJVMNRDSOJUGUYTIOJWGEZWGYZSMNRTMZI2MU3WCMJYGQZWMNZQHBSGGMDCG5SGIM3FMVTGGN3GHE2GKOBQGM4GKMJWGMZDQNLDMZRGINRZGVRWEOJZGQ2TCNBZGYYTGY3DGJRWGNTFEM3WMMRTMI4GGZRNHBRGGNRNGQ3TSOJNMI2DAYRNME3GIZRXGNRDOMRTMQYQ%3D%3D%3D%3D&formatOptions.useInt64Timestamp=True&prettyPrint=false HTTP/1.1\" 200 None\n",
      "https://bigquery.googleapis.com:443 \"GET /bigquery/v2/projects/civic-athlete-325820/datasets/_826a8878fb6ce8e27327e8909de23ec7cadc2e1c/tables/anon7a1843f708dc0b7dd3eefc7f94e8038e163285cfbd695cb9945149613cc2cc6e/data?pageToken=BFF73L3DQ4AQAAASAUIIBAEAAUNAUCFF2UCBB777777QOIH777777777777X6KQAJKQQECTSBIPQUFDDNF3GSYZNMF2GQ3DFORSS2MZSGU4DEMARL5NZBH6WAAAAAERJL44DENTBHA4DOODGMI3GGZJYMUZDOMZSG5STQOJQHFSGKMRTMVRTOY3BMRRTEZJRMMNCINZUG4YGMOBUGIWTIZBTMEWTIMRQMEWTQNZXMMWTEYJQMU2TCMLEGAYGKYISIRQW433OG5QTCOBUGNTDOMBYMRRTAYRXMRSDGZLFMZRTOZRZGRSTQMBTHBSTCNRTGI4DKY3GMJSDMOJVMNRDSOJUGUYTIOJWGEZWGYZSMNRTMZI2MU3WCMJYGQZWMNZQHBSGGMDCG5SGIM3FMVTGGN3GHE2GKOBQGM4GKMJWGMZDQNLDMZRGINRZGVRWEOJZGQ2TCNBZGYYTGY3DGJRWGNTFEM3WMMRTMI4GGZRNHBRGGNRNGQ3TSOJNMI2DAYRNME3GIZRXGNRDOMRTMQYQ%3D%3D%3D%3D&formatOptions.useInt64Timestamp=True&prettyPrint=false HTTP/1.1\" 200 None\n",
      "https://bigquery.googleapis.com:443 \"GET /bigquery/v2/projects/civic-athlete-325820/datasets/_826a8878fb6ce8e27327e8909de23ec7cadc2e1c/tables/anon7a1843f708dc0b7dd3eefc7f94e8038e163285cfbd695cb9945149613cc2cc6e/data?pageToken=BFF73L3DQ4AQAAASAUIIBAEAAUNAUCFF2UCBB777777QOIH777777777777X6KQAJKQQECTSBIPQUFDDNF3GSYZNMF2GQ3DFORSS2MZSGU4DEMARL5NZBH6WAAAAAERJL44DENTBHA4DOODGMI3GGZJYMUZDOMZSG5STQOJQHFSGKMRTMVRTOY3BMRRTEZJRMMNCINZUG4YGMOBUGIWTIZBTMEWTIMRQMEWTQNZXMMWTEYJQMU2TCMLEGAYGKYISIRQW433OG5QTCOBUGNTDOMBYMRRTAYRXMRSDGZLFMZRTOZRZGRSTQMBTHBSTCNRTGI4DKY3GMJSDMOJVMNRDSOJUGUYTIOJWGEZWGYZSMNRTMZI2MU3WCMJYGQZWMNZQHBSGGMDCG5SGIM3FMVTGGN3GHE2GKOBQGM4GKMJWGMZDQNLDMZRGINRZGVRWEOJZGQ2TCNBZGYYTGY3DGJRWGNTFEM3WMMRTMI4GGZRNHBRGGNRNGQ3TSOJNMI2DAYRNME3GIZRXGNRDOMRTMQYQ%3D%3D%3D%3D&formatOptions.useInt64Timestamp=True&prettyPrint=false HTTP/1.1\" 200 None\n"
     ]
    },
    {
     "name": "stdout",
     "output_type": "stream",
     "text": [
      "Downloading: 100%|\u001b[32m██████████\u001b[0m|\n"
     ]
    },
    {
     "name": "stderr",
     "output_type": "stream",
     "text": [
      "Got 100000 rows.\n",
      "\n",
      "Got 100000 rows.\n",
      "\n",
      "Got 100000 rows.\n",
      "\n",
      "Total time taken 44.5 s.\n",
      "Finished at 2023-04-08 22:45:32.\n",
      "Total time taken 44.5 s.\n",
      "Finished at 2023-04-08 22:45:32.\n",
      "Total time taken 44.5 s.\n",
      "Finished at 2023-04-08 22:45:32.\n"
     ]
    },
    {
     "name": "stdout",
     "output_type": "stream",
     "text": [
      "Query done\n"
     ]
    }
   ],
   "source": [
    "# Leitura dos dados no banco GCP. Para caso encontre algum erro, o script irá fazer o log deste erro\n",
    "try:\n",
    "    print('Running')\n",
    "\n",
    "    credentials = service_account.Credentials.from_service_account_info(json.loads(base64.b64decode(os.environ.get('CRED'))))\n",
    "    df = pg.read_gbq(sql_no_com, project_id=\"civic-athlete-325820\", credentials=credentials)\n",
    "\n",
    "    print('Query done')\n",
    "\n",
    "except Exception as e:\n",
    "    print(e)\n",
    "    print(traceback.format_exc())"
   ]
  },
  {
   "cell_type": "code",
   "execution_count": 108,
   "metadata": {},
   "outputs": [
    {
     "data": {
      "text/html": [
       "<div>\n",
       "<style scoped>\n",
       "    .dataframe tbody tr th:only-of-type {\n",
       "        vertical-align: middle;\n",
       "    }\n",
       "\n",
       "    .dataframe tbody tr th {\n",
       "        vertical-align: top;\n",
       "    }\n",
       "\n",
       "    .dataframe thead th {\n",
       "        text-align: right;\n",
       "    }\n",
       "</style>\n",
       "<table border=\"1\" class=\"dataframe\">\n",
       "  <thead>\n",
       "    <tr style=\"text-align: right;\">\n",
       "      <th></th>\n",
       "      <th>cnpj_basico</th>\n",
       "      <th>NOME_FANTASIA</th>\n",
       "      <th>CNAE_FISCAL_PRINCIPAL</th>\n",
       "      <th>cnae_descricao</th>\n",
       "      <th>cep</th>\n",
       "      <th>UF</th>\n",
       "      <th>municipio</th>\n",
       "      <th>ident_matriz_filial</th>\n",
       "      <th>dt_sit_cadastral</th>\n",
       "      <th>sit_cadastral</th>\n",
       "      <th>dt_inicio_ativ</th>\n",
       "      <th>razao_social</th>\n",
       "      <th>capital_social</th>\n",
       "      <th>porte</th>\n",
       "      <th>natureza_juridica</th>\n",
       "      <th>month</th>\n",
       "      <th>year</th>\n",
       "    </tr>\n",
       "  </thead>\n",
       "  <tbody>\n",
       "    <tr>\n",
       "      <th>0</th>\n",
       "      <td>44060657</td>\n",
       "      <td>MENEZES ODONTOLOGIA E ESTETICA</td>\n",
       "      <td>9602502</td>\n",
       "      <td>Atividades de estética e outros serviços de cu...</td>\n",
       "      <td>69918164</td>\n",
       "      <td>AC</td>\n",
       "      <td>RIO BRANCO</td>\n",
       "      <td>Matriz</td>\n",
       "      <td>2021-10-28</td>\n",
       "      <td>ATIVA</td>\n",
       "      <td>2021-10-28</td>\n",
       "      <td>A N MENEZES</td>\n",
       "      <td>600000</td>\n",
       "      <td>MICRO EMPRESA</td>\n",
       "      <td>Empresário (Individual)</td>\n",
       "      <td>10</td>\n",
       "      <td>2021</td>\n",
       "    </tr>\n",
       "    <tr>\n",
       "      <th>1</th>\n",
       "      <td>44127880</td>\n",
       "      <td>DOM MERCEARIA</td>\n",
       "      <td>4712100</td>\n",
       "      <td>Comércio varejista de mercadorias em geral, co...</td>\n",
       "      <td>69909764</td>\n",
       "      <td>AC</td>\n",
       "      <td>RIO BRANCO</td>\n",
       "      <td>Matriz</td>\n",
       "      <td>2021-11-04</td>\n",
       "      <td>ATIVA</td>\n",
       "      <td>2021-11-04</td>\n",
       "      <td>LAILA BRAGA MAIA 01829073257</td>\n",
       "      <td>500000</td>\n",
       "      <td>MICRO EMPRESA</td>\n",
       "      <td>Empresário (Individual)</td>\n",
       "      <td>11</td>\n",
       "      <td>2021</td>\n",
       "    </tr>\n",
       "    <tr>\n",
       "      <th>2</th>\n",
       "      <td>45639160</td>\n",
       "      <td>None</td>\n",
       "      <td>8230001</td>\n",
       "      <td>Serviços de organização de feiras, congressos,...</td>\n",
       "      <td>69901162</td>\n",
       "      <td>AC</td>\n",
       "      <td>RIO BRANCO</td>\n",
       "      <td>Matriz</td>\n",
       "      <td>2022-03-14</td>\n",
       "      <td>ATIVA</td>\n",
       "      <td>2022-03-14</td>\n",
       "      <td>VANESSA MARTINS DA SILVA 04564778293</td>\n",
       "      <td>100000</td>\n",
       "      <td>MICRO EMPRESA</td>\n",
       "      <td>Empresário (Individual)</td>\n",
       "      <td>3</td>\n",
       "      <td>2022</td>\n",
       "    </tr>\n",
       "    <tr>\n",
       "      <th>3</th>\n",
       "      <td>45863567</td>\n",
       "      <td>None</td>\n",
       "      <td>4399103</td>\n",
       "      <td>Obras de alvenaria</td>\n",
       "      <td>69915118</td>\n",
       "      <td>AC</td>\n",
       "      <td>RIO BRANCO</td>\n",
       "      <td>Matriz</td>\n",
       "      <td>2022-03-31</td>\n",
       "      <td>ATIVA</td>\n",
       "      <td>2022-03-31</td>\n",
       "      <td>ANTONIO SILVA DO NASCIMENTO 13835491253</td>\n",
       "      <td>500000</td>\n",
       "      <td>MICRO EMPRESA</td>\n",
       "      <td>Empresário (Individual)</td>\n",
       "      <td>3</td>\n",
       "      <td>2022</td>\n",
       "    </tr>\n",
       "    <tr>\n",
       "      <th>4</th>\n",
       "      <td>46102666</td>\n",
       "      <td>FRANCILENE FORTES BELEZA E COSMETICO</td>\n",
       "      <td>9602501</td>\n",
       "      <td>Cabeleireiros, manicure e pedicure</td>\n",
       "      <td>69921851</td>\n",
       "      <td>AC</td>\n",
       "      <td>RIO BRANCO</td>\n",
       "      <td>Matriz</td>\n",
       "      <td>2022-04-20</td>\n",
       "      <td>ATIVA</td>\n",
       "      <td>2022-04-20</td>\n",
       "      <td>FRANCILENE DA SILVA FORTES MONTEIRO 94022755253</td>\n",
       "      <td>260000</td>\n",
       "      <td>MICRO EMPRESA</td>\n",
       "      <td>Empresário (Individual)</td>\n",
       "      <td>4</td>\n",
       "      <td>2022</td>\n",
       "    </tr>\n",
       "  </tbody>\n",
       "</table>\n",
       "</div>"
      ],
      "text/plain": [
       "   cnpj_basico                         NOME_FANTASIA  CNAE_FISCAL_PRINCIPAL  \\\n",
       "0     44060657        MENEZES ODONTOLOGIA E ESTETICA                9602502   \n",
       "1     44127880                         DOM MERCEARIA                4712100   \n",
       "2     45639160                                  None                8230001   \n",
       "3     45863567                                  None                4399103   \n",
       "4     46102666  FRANCILENE FORTES BELEZA E COSMETICO                9602501   \n",
       "\n",
       "                                      cnae_descricao       cep  UF  \\\n",
       "0  Atividades de estética e outros serviços de cu...  69918164  AC   \n",
       "1  Comércio varejista de mercadorias em geral, co...  69909764  AC   \n",
       "2  Serviços de organização de feiras, congressos,...  69901162  AC   \n",
       "3                                 Obras de alvenaria  69915118  AC   \n",
       "4                 Cabeleireiros, manicure e pedicure  69921851  AC   \n",
       "\n",
       "    municipio ident_matriz_filial dt_sit_cadastral sit_cadastral  \\\n",
       "0  RIO BRANCO              Matriz       2021-10-28         ATIVA   \n",
       "1  RIO BRANCO              Matriz       2021-11-04         ATIVA   \n",
       "2  RIO BRANCO              Matriz       2022-03-14         ATIVA   \n",
       "3  RIO BRANCO              Matriz       2022-03-31         ATIVA   \n",
       "4  RIO BRANCO              Matriz       2022-04-20         ATIVA   \n",
       "\n",
       "  dt_inicio_ativ                                     razao_social  \\\n",
       "0     2021-10-28                                      A N MENEZES   \n",
       "1     2021-11-04                     LAILA BRAGA MAIA 01829073257   \n",
       "2     2022-03-14             VANESSA MARTINS DA SILVA 04564778293   \n",
       "3     2022-03-31          ANTONIO SILVA DO NASCIMENTO 13835491253   \n",
       "4     2022-04-20  FRANCILENE DA SILVA FORTES MONTEIRO 94022755253   \n",
       "\n",
       "   capital_social          porte        natureza_juridica  month  year  \n",
       "0          600000  MICRO EMPRESA  Empresário (Individual)     10  2021  \n",
       "1          500000  MICRO EMPRESA  Empresário (Individual)     11  2021  \n",
       "2          100000  MICRO EMPRESA  Empresário (Individual)      3  2022  \n",
       "3          500000  MICRO EMPRESA  Empresário (Individual)      3  2022  \n",
       "4          260000  MICRO EMPRESA  Empresário (Individual)      4  2022  "
      ]
     },
     "execution_count": 108,
     "metadata": {},
     "output_type": "execute_result"
    }
   ],
   "source": [
    "# Amostra dos dados resultantes da query\n",
    "df.head(5)"
   ]
  },
  {
   "cell_type": "code",
   "execution_count": 109,
   "metadata": {},
   "outputs": [],
   "source": [
    "# Renomeando as colunas para melhorar a leitura dos dados\n",
    "df.rename(columns={\n",
    "        'cnpj_basico': 'CNPJ', \n",
    "        'NOME_FANTASIA': 'Nome Fantasia', \n",
    "        'CNAE_FISCAL_PRINCIPAL': 'CNAE',\n",
    "        'cnae_descricao': 'Descricao', \n",
    "        'cep': 'CEP', \n",
    "        'UF': 'UF', \n",
    "        'municipio': 'Municipio', \n",
    "        'ident_matriz_filial': 'Matriz/Filial',\n",
    "        'dt_sit_cadastral': 'Data da Situação Cadastral', \n",
    "        'sit_cadastral': 'Situação Cadastral', \n",
    "        'dt_inicio_ativ': 'Data de Inicio de Atividades', \n",
    "        'razao_social': 'Razao Social',\n",
    "        'capital_social': 'Capital', \n",
    "        'porte': 'Porte', \n",
    "        'natureza_juridica': 'Natureza Juridica', \n",
    "        'month': 'Mes', \n",
    "        'year': 'Ano'\n",
    "}, inplace=True)"
   ]
  },
  {
   "cell_type": "code",
   "execution_count": 110,
   "metadata": {},
   "outputs": [
    {
     "data": {
      "text/html": [
       "<div>\n",
       "<style scoped>\n",
       "    .dataframe tbody tr th:only-of-type {\n",
       "        vertical-align: middle;\n",
       "    }\n",
       "\n",
       "    .dataframe tbody tr th {\n",
       "        vertical-align: top;\n",
       "    }\n",
       "\n",
       "    .dataframe thead th {\n",
       "        text-align: right;\n",
       "    }\n",
       "</style>\n",
       "<table border=\"1\" class=\"dataframe\">\n",
       "  <thead>\n",
       "    <tr style=\"text-align: right;\">\n",
       "      <th></th>\n",
       "      <th>CNPJ</th>\n",
       "      <th>CNAE</th>\n",
       "      <th>Capital</th>\n",
       "      <th>Mes</th>\n",
       "      <th>Ano</th>\n",
       "    </tr>\n",
       "  </thead>\n",
       "  <tbody>\n",
       "    <tr>\n",
       "      <th>count</th>\n",
       "      <td>1.000000e+05</td>\n",
       "      <td>1.000000e+05</td>\n",
       "      <td>1.000000e+05</td>\n",
       "      <td>100000.000000</td>\n",
       "      <td>100000.000000</td>\n",
       "    </tr>\n",
       "    <tr>\n",
       "      <th>mean</th>\n",
       "      <td>4.607080e+07</td>\n",
       "      <td>5.877449e+06</td>\n",
       "      <td>2.866834e+08</td>\n",
       "      <td>6.331980</td>\n",
       "      <td>2020.405960</td>\n",
       "    </tr>\n",
       "    <tr>\n",
       "      <th>std</th>\n",
       "      <td>6.230686e+06</td>\n",
       "      <td>2.211070e+06</td>\n",
       "      <td>1.216615e+10</td>\n",
       "      <td>3.318551</td>\n",
       "      <td>6.310405</td>\n",
       "    </tr>\n",
       "    <tr>\n",
       "      <th>min</th>\n",
       "      <td>4.127368e+07</td>\n",
       "      <td>1.113010e+05</td>\n",
       "      <td>0.000000e+00</td>\n",
       "      <td>1.000000</td>\n",
       "      <td>1946.000000</td>\n",
       "    </tr>\n",
       "    <tr>\n",
       "      <th>25%</th>\n",
       "      <td>4.340305e+07</td>\n",
       "      <td>4.722901e+06</td>\n",
       "      <td>1.000000e+05</td>\n",
       "      <td>4.000000</td>\n",
       "      <td>2021.000000</td>\n",
       "    </tr>\n",
       "    <tr>\n",
       "      <th>50%</th>\n",
       "      <td>4.509559e+07</td>\n",
       "      <td>5.229099e+06</td>\n",
       "      <td>3.000000e+05</td>\n",
       "      <td>6.000000</td>\n",
       "      <td>2022.000000</td>\n",
       "    </tr>\n",
       "    <tr>\n",
       "      <th>75%</th>\n",
       "      <td>4.677760e+07</td>\n",
       "      <td>8.112500e+06</td>\n",
       "      <td>1.000000e+06</td>\n",
       "      <td>9.000000</td>\n",
       "      <td>2022.000000</td>\n",
       "    </tr>\n",
       "    <tr>\n",
       "      <th>max</th>\n",
       "      <td>9.851246e+07</td>\n",
       "      <td>9.700500e+06</td>\n",
       "      <td>2.810842e+12</td>\n",
       "      <td>12.000000</td>\n",
       "      <td>2023.000000</td>\n",
       "    </tr>\n",
       "  </tbody>\n",
       "</table>\n",
       "</div>"
      ],
      "text/plain": [
       "               CNPJ          CNAE       Capital            Mes            Ano\n",
       "count  1.000000e+05  1.000000e+05  1.000000e+05  100000.000000  100000.000000\n",
       "mean   4.607080e+07  5.877449e+06  2.866834e+08       6.331980    2020.405960\n",
       "std    6.230686e+06  2.211070e+06  1.216615e+10       3.318551       6.310405\n",
       "min    4.127368e+07  1.113010e+05  0.000000e+00       1.000000    1946.000000\n",
       "25%    4.340305e+07  4.722901e+06  1.000000e+05       4.000000    2021.000000\n",
       "50%    4.509559e+07  5.229099e+06  3.000000e+05       6.000000    2022.000000\n",
       "75%    4.677760e+07  8.112500e+06  1.000000e+06       9.000000    2022.000000\n",
       "max    9.851246e+07  9.700500e+06  2.810842e+12      12.000000    2023.000000"
      ]
     },
     "execution_count": 110,
     "metadata": {},
     "output_type": "execute_result"
    }
   ],
   "source": [
    "# Descrevendo os dados\n",
    "df.describe()"
   ]
  },
  {
   "cell_type": "code",
   "execution_count": 111,
   "metadata": {},
   "outputs": [
    {
     "data": {
      "text/plain": [
       "CNPJ                                0\n",
       "Nome Fantasia                   22783\n",
       "CNAE                                0\n",
       "Descricao                           0\n",
       "CEP                               103\n",
       "UF                                  0\n",
       "Municipio                           0\n",
       "Matriz/Filial                       0\n",
       "Data da Situação Cadastral          0\n",
       "Situação Cadastral                  0\n",
       "Data de Inicio de Atividades        0\n",
       "Razao Social                        0\n",
       "Capital                             0\n",
       "Porte                               0\n",
       "Natureza Juridica                   0\n",
       "Mes                                 0\n",
       "Ano                                 0\n",
       "dtype: int64"
      ]
     },
     "execution_count": 111,
     "metadata": {},
     "output_type": "execute_result"
    }
   ],
   "source": [
    "# Verificando dados nulos\n",
    "\n",
    "# Pelo fato de termos feito a modelagem dos dados previamente para análises em dashboard, os dados deste df estão em boa condição.\n",
    "# Os dados que estão nulos não serão considerados pelo modelo, então não serão feitos os tratamentos nessas colunas.\n",
    "df.isnull().sum()"
   ]
  },
  {
   "cell_type": "code",
   "execution_count": 112,
   "metadata": {},
   "outputs": [
    {
     "data": {
      "text/html": [
       "<div>\n",
       "<style scoped>\n",
       "    .dataframe tbody tr th:only-of-type {\n",
       "        vertical-align: middle;\n",
       "    }\n",
       "\n",
       "    .dataframe tbody tr th {\n",
       "        vertical-align: top;\n",
       "    }\n",
       "\n",
       "    .dataframe thead th {\n",
       "        text-align: right;\n",
       "    }\n",
       "</style>\n",
       "<table border=\"1\" class=\"dataframe\">\n",
       "  <thead>\n",
       "    <tr style=\"text-align: right;\">\n",
       "      <th></th>\n",
       "      <th>CNAE</th>\n",
       "      <th>UF</th>\n",
       "      <th>Matriz/Filial</th>\n",
       "      <th>Razao Social</th>\n",
       "      <th>Capital</th>\n",
       "      <th>Porte</th>\n",
       "      <th>Natureza Juridica</th>\n",
       "      <th>Situação Cadastral</th>\n",
       "    </tr>\n",
       "  </thead>\n",
       "  <tbody>\n",
       "    <tr>\n",
       "      <th>0</th>\n",
       "      <td>9602502</td>\n",
       "      <td>AC</td>\n",
       "      <td>Matriz</td>\n",
       "      <td>A N MENEZES</td>\n",
       "      <td>600000</td>\n",
       "      <td>MICRO EMPRESA</td>\n",
       "      <td>Empresário (Individual)</td>\n",
       "      <td>ATIVA</td>\n",
       "    </tr>\n",
       "    <tr>\n",
       "      <th>1</th>\n",
       "      <td>4712100</td>\n",
       "      <td>AC</td>\n",
       "      <td>Matriz</td>\n",
       "      <td>LAILA BRAGA MAIA 01829073257</td>\n",
       "      <td>500000</td>\n",
       "      <td>MICRO EMPRESA</td>\n",
       "      <td>Empresário (Individual)</td>\n",
       "      <td>ATIVA</td>\n",
       "    </tr>\n",
       "    <tr>\n",
       "      <th>2</th>\n",
       "      <td>8230001</td>\n",
       "      <td>AC</td>\n",
       "      <td>Matriz</td>\n",
       "      <td>VANESSA MARTINS DA SILVA 04564778293</td>\n",
       "      <td>100000</td>\n",
       "      <td>MICRO EMPRESA</td>\n",
       "      <td>Empresário (Individual)</td>\n",
       "      <td>ATIVA</td>\n",
       "    </tr>\n",
       "    <tr>\n",
       "      <th>3</th>\n",
       "      <td>4399103</td>\n",
       "      <td>AC</td>\n",
       "      <td>Matriz</td>\n",
       "      <td>ANTONIO SILVA DO NASCIMENTO 13835491253</td>\n",
       "      <td>500000</td>\n",
       "      <td>MICRO EMPRESA</td>\n",
       "      <td>Empresário (Individual)</td>\n",
       "      <td>ATIVA</td>\n",
       "    </tr>\n",
       "    <tr>\n",
       "      <th>4</th>\n",
       "      <td>9602501</td>\n",
       "      <td>AC</td>\n",
       "      <td>Matriz</td>\n",
       "      <td>FRANCILENE DA SILVA FORTES MONTEIRO 94022755253</td>\n",
       "      <td>260000</td>\n",
       "      <td>MICRO EMPRESA</td>\n",
       "      <td>Empresário (Individual)</td>\n",
       "      <td>ATIVA</td>\n",
       "    </tr>\n",
       "    <tr>\n",
       "      <th>...</th>\n",
       "      <td>...</td>\n",
       "      <td>...</td>\n",
       "      <td>...</td>\n",
       "      <td>...</td>\n",
       "      <td>...</td>\n",
       "      <td>...</td>\n",
       "      <td>...</td>\n",
       "      <td>...</td>\n",
       "    </tr>\n",
       "    <tr>\n",
       "      <th>99995</th>\n",
       "      <td>8230001</td>\n",
       "      <td>BA</td>\n",
       "      <td>Filial</td>\n",
       "      <td>KS COMERCIO DE EQUIPAMENTOS ELETRONICOS LTDA</td>\n",
       "      <td>60000000</td>\n",
       "      <td>MICRO EMPRESA</td>\n",
       "      <td>Sociedade Empresária Limitada</td>\n",
       "      <td>ATIVA</td>\n",
       "    </tr>\n",
       "    <tr>\n",
       "      <th>99996</th>\n",
       "      <td>8640206</td>\n",
       "      <td>BA</td>\n",
       "      <td>Filial</td>\n",
       "      <td>CENTRO DE IMAGEM DIAGNOSTICOS S/A.</td>\n",
       "      <td>63537197099</td>\n",
       "      <td>DEMAIS</td>\n",
       "      <td>Sociedade Anônima Aberta</td>\n",
       "      <td>ATIVA</td>\n",
       "    </tr>\n",
       "    <tr>\n",
       "      <th>99997</th>\n",
       "      <td>4930201</td>\n",
       "      <td>BA</td>\n",
       "      <td>Matriz</td>\n",
       "      <td>AILTON MIRANDA DA SILVA 01425342507</td>\n",
       "      <td>100</td>\n",
       "      <td>MICRO EMPRESA</td>\n",
       "      <td>Empresário (Individual)</td>\n",
       "      <td>ATIVA</td>\n",
       "    </tr>\n",
       "    <tr>\n",
       "      <th>99998</th>\n",
       "      <td>9700500</td>\n",
       "      <td>BA</td>\n",
       "      <td>Matriz</td>\n",
       "      <td>VANUSA LOPES DOS SANTOS 50830082549</td>\n",
       "      <td>110000</td>\n",
       "      <td>MICRO EMPRESA</td>\n",
       "      <td>Empresário (Individual)</td>\n",
       "      <td>ATIVA</td>\n",
       "    </tr>\n",
       "    <tr>\n",
       "      <th>99999</th>\n",
       "      <td>5912099</td>\n",
       "      <td>BA</td>\n",
       "      <td>Matriz</td>\n",
       "      <td>BARDA PRODUCAO VISUAL LTDA</td>\n",
       "      <td>100000</td>\n",
       "      <td>MICRO EMPRESA</td>\n",
       "      <td>Sociedade Empresária Limitada</td>\n",
       "      <td>ATIVA</td>\n",
       "    </tr>\n",
       "  </tbody>\n",
       "</table>\n",
       "<p>100000 rows × 8 columns</p>\n",
       "</div>"
      ],
      "text/plain": [
       "          CNAE  UF Matriz/Filial  \\\n",
       "0      9602502  AC        Matriz   \n",
       "1      4712100  AC        Matriz   \n",
       "2      8230001  AC        Matriz   \n",
       "3      4399103  AC        Matriz   \n",
       "4      9602501  AC        Matriz   \n",
       "...        ...  ..           ...   \n",
       "99995  8230001  BA        Filial   \n",
       "99996  8640206  BA        Filial   \n",
       "99997  4930201  BA        Matriz   \n",
       "99998  9700500  BA        Matriz   \n",
       "99999  5912099  BA        Matriz   \n",
       "\n",
       "                                          Razao Social      Capital  \\\n",
       "0                                          A N MENEZES       600000   \n",
       "1                         LAILA BRAGA MAIA 01829073257       500000   \n",
       "2                 VANESSA MARTINS DA SILVA 04564778293       100000   \n",
       "3              ANTONIO SILVA DO NASCIMENTO 13835491253       500000   \n",
       "4      FRANCILENE DA SILVA FORTES MONTEIRO 94022755253       260000   \n",
       "...                                                ...          ...   \n",
       "99995     KS COMERCIO DE EQUIPAMENTOS ELETRONICOS LTDA     60000000   \n",
       "99996               CENTRO DE IMAGEM DIAGNOSTICOS S/A.  63537197099   \n",
       "99997              AILTON MIRANDA DA SILVA 01425342507          100   \n",
       "99998              VANUSA LOPES DOS SANTOS 50830082549       110000   \n",
       "99999                       BARDA PRODUCAO VISUAL LTDA       100000   \n",
       "\n",
       "               Porte              Natureza Juridica Situação Cadastral  \n",
       "0      MICRO EMPRESA        Empresário (Individual)              ATIVA  \n",
       "1      MICRO EMPRESA        Empresário (Individual)              ATIVA  \n",
       "2      MICRO EMPRESA        Empresário (Individual)              ATIVA  \n",
       "3      MICRO EMPRESA        Empresário (Individual)              ATIVA  \n",
       "4      MICRO EMPRESA        Empresário (Individual)              ATIVA  \n",
       "...              ...                            ...                ...  \n",
       "99995  MICRO EMPRESA  Sociedade Empresária Limitada              ATIVA  \n",
       "99996         DEMAIS       Sociedade Anônima Aberta              ATIVA  \n",
       "99997  MICRO EMPRESA        Empresário (Individual)              ATIVA  \n",
       "99998  MICRO EMPRESA        Empresário (Individual)              ATIVA  \n",
       "99999  MICRO EMPRESA  Sociedade Empresária Limitada              ATIVA  \n",
       "\n",
       "[100000 rows x 8 columns]"
      ]
     },
     "execution_count": 112,
     "metadata": {},
     "output_type": "execute_result"
    }
   ],
   "source": [
    "# Selecionando as colunas que serão trabalhadas na análise e na construção do modelo\n",
    "\n",
    "# df.columns\n",
    "df = df[['CNAE', 'UF', 'Matriz/Filial', 'Razao Social', 'Capital', 'Porte', 'Natureza Juridica', 'Situação Cadastral']]\n",
    "df"
   ]
  },
  {
   "attachments": {},
   "cell_type": "markdown",
   "metadata": {},
   "source": [
    "## Análise de boxplot\n",
    "\n",
    "A análise da divisão dos dados por quartis, neste caso da coluna de capital financeiro, mostrará onde os dados estão distrituídos e, conforme feita a análise, pudemos perceber como os outliers fizeram uma grande diferença neste gráfico."
   ]
  },
  {
   "cell_type": "code",
   "execution_count": 113,
   "metadata": {},
   "outputs": [
    {
     "data": {
      "image/png": "[encoded data removed]",
      "text/plain": [
       "<Figure size 432x288 with 1 Axes>"
      ]
     },
     "metadata": {
      "needs_background": "light"
     },
     "output_type": "display_data"
    }
   ],
   "source": [
    "# Verificando a divisão dos dados por meio do boxplot\n",
    "\n",
    "plt.boxplot(df[\"Capital\"])\n",
    "plt.show()"
   ]
  },
  {
   "cell_type": "code",
   "execution_count": 114,
   "metadata": {},
   "outputs": [
    {
     "data": {
      "text/plain": [
       "'Os valores são: máx = 2810842339000, min = 0, média = 286683419.93'"
      ]
     },
     "execution_count": 114,
     "metadata": {},
     "output_type": "execute_result"
    }
   ],
   "source": [
    "# Verificação dos dados máximo e mínimo, além da média\n",
    "\n",
    "mx = df['Capital'].max()\n",
    "mn = df['Capital'].min()\n",
    "mean = df.Capital.mean()\n",
    "\n",
    "f'Os valores são: máx = {mx}, min = {mn}, média = {round(mean, 2)}'"
   ]
  },
  {
   "cell_type": "code",
   "execution_count": 115,
   "metadata": {},
   "outputs": [
    {
     "name": "stdout",
     "output_type": "stream",
     "text": [
      "286683419.9344\n"
     ]
    },
    {
     "data": {
      "text/plain": [
       "(18756843.028789364,\n",
       " CNAE                  99898\n",
       " UF                    99898\n",
       " Matriz/Filial         99898\n",
       " Razao Social          99898\n",
       " Capital               99898\n",
       " Porte                 99898\n",
       " Natureza Juridica     99898\n",
       " Situação Cadastral    99898\n",
       " dtype: int64)"
      ]
     },
     "execution_count": 115,
     "metadata": {},
     "output_type": "execute_result"
    }
   ],
   "source": [
    "# Verificando e Removendo outliers\n",
    "\n",
    "df_filtered = df.copy() \n",
    "\n",
    "print(df_filtered['Capital'].mean())\n",
    "\n",
    "df_filtered_mean, df_filtered_std = np.mean(df_filtered['Capital']), np.std(df_filtered['Capital'])\n",
    "cut_off = df_filtered_std * 3\n",
    "\n",
    "lower, upper = df_filtered_mean - cut_off, df_filtered_mean + cut_off\n",
    "df_filtered = df_filtered.loc[~((df_filtered['Capital'] < lower) | (df_filtered['Capital'] > upper))]\n",
    "\n",
    "# type(idx[0])\n",
    "df_filtered['Capital'].mean(), df_filtered.count()\n"
   ]
  },
  {
   "attachments": {},
   "cell_type": "markdown",
   "metadata": {},
   "source": [
    "# Análisando os dados\n",
    "\n",
    "Inicialmente, faremos uma verificação de capital por empresas, filtrando por estado e situação cadastral\n",
    "\n",
    "A ideia é entender: quais são os estados com maior capital aplicado em empresas, e se isso se correlaciona com o número de empresas por UF"
   ]
  },
  {
   "cell_type": "code",
   "execution_count": 116,
   "metadata": {},
   "outputs": [
    {
     "data": {
      "image/png": "[encoded data removed]",
      "text/plain": [
       "<Figure size 1440x576 with 2 Axes>"
      ]
     },
     "metadata": {
      "needs_background": "light"
     },
     "output_type": "display_data"
    }
   ],
   "source": [
    "df_filtered['Capital em Bilhões'] = df_filtered['Capital'] / 1000000000\n",
    "\n",
    "v1 = df_filtered[['UF', 'Capital em Bilhões']].groupby(['UF']).sum('Capital em Bilhões')\n",
    "v2 = df_filtered[['UF', 'Capital']].groupby(['UF']).count()\n",
    "\n",
    "plt.subplots(figsize=(20,8))\n",
    "\n",
    "plt.subplot(1,2,1)\n",
    "plt.bar(v1['Capital em Bilhões'].index, v1['Capital em Bilhões'])\n",
    "plt.title(\"Capital (em Bi) por Estado\")\n",
    "plt.xticks(rotation=45)\n",
    "plt.xlabel(\"Estado\")\n",
    "plt.ylabel(\"Capital (em Bi)\")\n",
    "\n",
    "plt.subplot(1,2,2)\n",
    "plt.bar(v2['Capital'].index, v2['Capital'])\n",
    "plt.title(\"Empresas por Estado\")\n",
    "plt.xticks(rotation=45)\n",
    "plt.xlabel(\"Estado\")\n",
    "plt.ylabel(\"No. de Empresas\")\n",
    "\n",
    "plt.show()\n",
    "# v1['Capital'].index"
   ]
  },
  {
   "attachments": {},
   "cell_type": "markdown",
   "metadata": {},
   "source": [
    "## Respostas\n",
    "\n",
    "Embora, nesta amostra, tenhamos uma disparidade muito grande para as empresas e capital investido em São Paulo, outros estados com um bom número de empresas não apresentam, em contrapartida, um alto capital na soma por UF"
   ]
  },
  {
   "attachments": {},
   "cell_type": "markdown",
   "metadata": {},
   "source": [
    "### Agora, veremos quais são as principais naturezas jurídicas cadastras pelo governo"
   ]
  },
  {
   "cell_type": "code",
   "execution_count": 117,
   "metadata": {},
   "outputs": [
    {
     "data": {
      "text/plain": [
       "Text(0, 0.5, 'Contagem')"
      ]
     },
     "execution_count": 117,
     "metadata": {},
     "output_type": "execute_result"
    },
    {
     "data": {
      "image/png": "[encoded data removed]",
      "text/plain": [
       "<Figure size 432x288 with 1 Axes>"
      ]
     },
     "metadata": {
      "needs_background": "light"
     },
     "output_type": "display_data"
    }
   ],
   "source": [
    "v1 = df_filtered['Natureza Juridica'].value_counts().sort_values(ascending=False).head(5)\n",
    "\n",
    "fig, ax = plt.subplots()\n",
    "\n",
    "bars =  ax.bar(v1.index, v1.values)\n",
    "ax.bar_label(bars)\n",
    "\n",
    "plt.bar(v1.index, v1.values)\n",
    "plt.title(\"Top 5 Naturezas Jurídicas\")\n",
    "plt.xticks(rotation=90)\n",
    "plt.xlabel(\"Natureza Jurídica\")\n",
    "plt.ylabel(\"Contagem\")"
   ]
  },
  {
   "attachments": {},
   "cell_type": "markdown",
   "metadata": {},
   "source": [
    "Podemos ver que, com os dados estando circundados ao perído pré (2018-29), pandemia e pós-pandemia, o número de empresários individuais tem um número 434% maior "
   ]
  },
  {
   "attachments": {},
   "cell_type": "markdown",
   "metadata": {},
   "source": [
    "Os dados presentes no dataframe mostram empresas criadas de 2018 em diante, mas quantas se encontram ativas atualmente?"
   ]
  },
  {
   "cell_type": "code",
   "execution_count": 118,
   "metadata": {},
   "outputs": [
    {
     "data": {
      "image/png": "[encoded data removed]",
      "text/plain": [
       "<Figure size 432x288 with 1 Axes>"
      ]
     },
     "metadata": {
      "needs_background": "light"
     },
     "output_type": "display_data"
    }
   ],
   "source": [
    "v1 = df_filtered['Situação Cadastral'].value_counts().sort_values(ascending=False)\n",
    "\n",
    "fig, ax = plt.subplots()\n",
    "\n",
    "bars =  ax.bar(v1.index, v1.values)\n",
    "ax.bar_label(bars)\n",
    "\n",
    "plt.bar(v1.index, v1.values)\n",
    "plt.title(\"Número de Empresas por Situação Cadastral\")\n",
    "plt.xticks(rotation=90)\n",
    "plt.xlabel(\"Natureza Jurídica\")\n",
    "plt.ylabel(\"Contagem\")\n",
    "\n",
    "plt.tight_layout()"
   ]
  },
  {
   "cell_type": "code",
   "execution_count": 119,
   "metadata": {},
   "outputs": [
    {
     "data": {
      "text/plain": [
       "'Atualmente, das empresas criadas a partir de 2018, 0.8374241726561092% das empresa estão ativas, num total de 83657'"
      ]
     },
     "execution_count": 119,
     "metadata": {},
     "output_type": "execute_result"
    }
   ],
   "source": [
    "pct = df_filtered[df_filtered['Situação Cadastral'] == 'ATIVA'].count() / df_filtered.count()\n",
    "ativo = df_filtered[df_filtered['Situação Cadastral'] == 'ATIVA'].count()\n",
    "\n",
    "f'Atualmente, das empresas criadas a partir de 2018, {pct[0]}% das empresa estão ativas, num total de {ativo[0]}'"
   ]
  },
  {
   "cell_type": "code",
   "execution_count": 120,
   "metadata": {},
   "outputs": [
    {
     "data": {
      "text/plain": [
       "<matplotlib.collections.PathCollection at 0x2a9e9075d60>"
      ]
     },
     "execution_count": 120,
     "metadata": {},
     "output_type": "execute_result"
    },
    {
     "data": {
      "image/png": "[encoded data removed]",
      "text/plain": [
       "<Figure size 1332x756 with 1 Axes>"
      ]
     },
     "metadata": {
      "needs_background": "light"
     },
     "output_type": "display_data"
    }
   ],
   "source": [
    "df_filtered['Capital'].astype(int)\n",
    "plt.gcf().set_size_inches(18.5, 10.5)\n",
    "\n",
    "plt.scatter(\n",
    "    x=df_filtered['Situação Cadastral'],\n",
    "    y=df_filtered['Capital'],\n",
    "    s=(30 * np.random.rand(df_filtered['Situação Cadastral'].count()))**2,\n",
    "    c=np.random.rand(df_filtered['Situação Cadastral'].count()), \n",
    "    alpha=0.5\n",
    ")"
   ]
  },
  {
   "cell_type": "code",
   "execution_count": 121,
   "metadata": {},
   "outputs": [],
   "source": [
    "# Pré-processamento\n",
    "# De forma a ajudar o modelo de machine learning a tomar a melhor decisão, iremos transformar os dados quantitativos de capital em intervalos\n",
    "\n",
    "df_filtered.reset_index(inplace=True, drop=True)\n",
    "# df_filtered.drop('index')\n",
    "\n",
    "interval = []\n",
    "for n in range(len(df_filtered)):\n",
    "\n",
    "    if df_filtered.loc[n, 'Capital'] < 100000:\n",
    "        interval.append('Menor que 100k')\n",
    "    elif (df_filtered.loc[n, 'Capital'] >= 100000) and (df_filtered.loc[n, 'Capital'] < 500000):\n",
    "        interval.append('Entre 100k e 500k')\n",
    "    elif (df_filtered.loc[n, 'Capital'] >= 500000) and (df_filtered.loc[n, 'Capital'] < 1000000):\n",
    "        interval.append('Entre 500k e 1M')\n",
    "    else:\n",
    "        interval.append('Maior que 1 Mi')\n",
    "\n",
    "df_filtered['Interval'] = interval\n"
   ]
  },
  {
   "cell_type": "code",
   "execution_count": 122,
   "metadata": {},
   "outputs": [
    {
     "data": {
      "text/plain": [
       "Entre 100k e 500k    37197\n",
       "Maior que 1 Mi       30408\n",
       "Entre 500k e 1M      16163\n",
       "Menor que 100k       16130\n",
       "Name: Interval, dtype: int64"
      ]
     },
     "execution_count": 122,
     "metadata": {},
     "output_type": "execute_result"
    }
   ],
   "source": [
    "df_filtered['Interval'].value_counts()\n"
   ]
  },
  {
   "attachments": {},
   "cell_type": "markdown",
   "metadata": {},
   "source": [
    "## Conversão de dados categóricos para numéricos"
   ]
  },
  {
   "cell_type": "code",
   "execution_count": 123,
   "metadata": {},
   "outputs": [
    {
     "data": {
      "text/html": [
       "<div>\n",
       "<style scoped>\n",
       "    .dataframe tbody tr th:only-of-type {\n",
       "        vertical-align: middle;\n",
       "    }\n",
       "\n",
       "    .dataframe tbody tr th {\n",
       "        vertical-align: top;\n",
       "    }\n",
       "\n",
       "    .dataframe thead th {\n",
       "        text-align: right;\n",
       "    }\n",
       "</style>\n",
       "<table border=\"1\" class=\"dataframe\">\n",
       "  <thead>\n",
       "    <tr style=\"text-align: right;\">\n",
       "      <th></th>\n",
       "      <th>UF</th>\n",
       "      <th>Matriz/Filial</th>\n",
       "      <th>Porte</th>\n",
       "      <th>Natureza Juridica</th>\n",
       "      <th>Situação Cadastral</th>\n",
       "      <th>Interval</th>\n",
       "    </tr>\n",
       "  </thead>\n",
       "  <tbody>\n",
       "    <tr>\n",
       "      <th>0</th>\n",
       "      <td>0</td>\n",
       "      <td>1</td>\n",
       "      <td>2</td>\n",
       "      <td>12</td>\n",
       "      <td>0</td>\n",
       "      <td>1</td>\n",
       "    </tr>\n",
       "    <tr>\n",
       "      <th>1</th>\n",
       "      <td>0</td>\n",
       "      <td>1</td>\n",
       "      <td>2</td>\n",
       "      <td>12</td>\n",
       "      <td>0</td>\n",
       "      <td>1</td>\n",
       "    </tr>\n",
       "    <tr>\n",
       "      <th>2</th>\n",
       "      <td>0</td>\n",
       "      <td>1</td>\n",
       "      <td>2</td>\n",
       "      <td>12</td>\n",
       "      <td>0</td>\n",
       "      <td>0</td>\n",
       "    </tr>\n",
       "    <tr>\n",
       "      <th>3</th>\n",
       "      <td>0</td>\n",
       "      <td>1</td>\n",
       "      <td>2</td>\n",
       "      <td>12</td>\n",
       "      <td>0</td>\n",
       "      <td>1</td>\n",
       "    </tr>\n",
       "    <tr>\n",
       "      <th>4</th>\n",
       "      <td>0</td>\n",
       "      <td>1</td>\n",
       "      <td>2</td>\n",
       "      <td>12</td>\n",
       "      <td>0</td>\n",
       "      <td>0</td>\n",
       "    </tr>\n",
       "    <tr>\n",
       "      <th>...</th>\n",
       "      <td>...</td>\n",
       "      <td>...</td>\n",
       "      <td>...</td>\n",
       "      <td>...</td>\n",
       "      <td>...</td>\n",
       "      <td>...</td>\n",
       "    </tr>\n",
       "    <tr>\n",
       "      <th>99893</th>\n",
       "      <td>4</td>\n",
       "      <td>1</td>\n",
       "      <td>0</td>\n",
       "      <td>28</td>\n",
       "      <td>0</td>\n",
       "      <td>3</td>\n",
       "    </tr>\n",
       "    <tr>\n",
       "      <th>99894</th>\n",
       "      <td>4</td>\n",
       "      <td>0</td>\n",
       "      <td>2</td>\n",
       "      <td>28</td>\n",
       "      <td>0</td>\n",
       "      <td>2</td>\n",
       "    </tr>\n",
       "    <tr>\n",
       "      <th>99895</th>\n",
       "      <td>4</td>\n",
       "      <td>1</td>\n",
       "      <td>2</td>\n",
       "      <td>12</td>\n",
       "      <td>0</td>\n",
       "      <td>3</td>\n",
       "    </tr>\n",
       "    <tr>\n",
       "      <th>99896</th>\n",
       "      <td>4</td>\n",
       "      <td>1</td>\n",
       "      <td>2</td>\n",
       "      <td>12</td>\n",
       "      <td>0</td>\n",
       "      <td>0</td>\n",
       "    </tr>\n",
       "    <tr>\n",
       "      <th>99897</th>\n",
       "      <td>4</td>\n",
       "      <td>1</td>\n",
       "      <td>2</td>\n",
       "      <td>28</td>\n",
       "      <td>0</td>\n",
       "      <td>0</td>\n",
       "    </tr>\n",
       "  </tbody>\n",
       "</table>\n",
       "<p>99898 rows × 6 columns</p>\n",
       "</div>"
      ],
      "text/plain": [
       "       UF  Matriz/Filial  Porte  Natureza Juridica  Situação Cadastral  \\\n",
       "0       0              1      2                 12                   0   \n",
       "1       0              1      2                 12                   0   \n",
       "2       0              1      2                 12                   0   \n",
       "3       0              1      2                 12                   0   \n",
       "4       0              1      2                 12                   0   \n",
       "...    ..            ...    ...                ...                 ...   \n",
       "99893   4              1      0                 28                   0   \n",
       "99894   4              0      2                 28                   0   \n",
       "99895   4              1      2                 12                   0   \n",
       "99896   4              1      2                 12                   0   \n",
       "99897   4              1      2                 28                   0   \n",
       "\n",
       "       Interval  \n",
       "0             1  \n",
       "1             1  \n",
       "2             0  \n",
       "3             1  \n",
       "4             0  \n",
       "...         ...  \n",
       "99893         3  \n",
       "99894         2  \n",
       "99895         3  \n",
       "99896         0  \n",
       "99897         0  \n",
       "\n",
       "[99898 rows x 6 columns]"
      ]
     },
     "execution_count": 123,
     "metadata": {},
     "output_type": "execute_result"
    }
   ],
   "source": [
    "# Aqui estamos convertendo textos para registros numéricos, permitindo que o algoritmo de machine learning leia as colunas\n",
    "\n",
    "label_encoder = preprocessing.LabelEncoder()\n",
    "\n",
    "df_ml = df_filtered.copy()\n",
    "df_ml = df_ml.drop(columns=['CNAE', 'Razao Social', 'Capital', 'Capital em Bilhões']) #, inplace=True\n",
    "df_ml['Situação Cadastral'] = label_encoder.fit_transform(df_ml['Situação Cadastral'])\n",
    "df_ml['UF'] = label_encoder.fit_transform(df_ml['UF'])\n",
    "df_ml['Matriz/Filial'] = label_encoder.fit_transform(df_ml['Matriz/Filial'])\n",
    "df_ml['Interval'] = label_encoder.fit_transform(df_ml['Interval'])\n",
    "df_ml['Porte'] = label_encoder.fit_transform(df_ml['Porte'])\n",
    "df_ml['Natureza Juridica'] = label_encoder.fit_transform(df_ml['Natureza Juridica'])\n",
    "df_ml['Situação Cadastral'] = label_encoder.fit_transform(df_ml['Situação Cadastral'])\n",
    "\n",
    "df_ml"
   ]
  },
  {
   "cell_type": "code",
   "execution_count": 124,
   "metadata": {},
   "outputs": [
    {
     "name": "stderr",
     "output_type": "stream",
     "text": [
      "locator: <matplotlib.ticker.AutoLocator object at 0x000002A9E91041C0>\n",
      "locator: <matplotlib.ticker.AutoLocator object at 0x000002A9E91041C0>\n",
      "locator: <matplotlib.ticker.AutoLocator object at 0x000002A9E91041C0>\n"
     ]
    },
    {
     "data": {
      "text/plain": [
       "<AxesSubplot:>"
      ]
     },
     "execution_count": 124,
     "metadata": {},
     "output_type": "execute_result"
    },
    {
     "data": {
      "image/png": "[encoded data removed]",
      "text/plain": [
       "<Figure size 432x288 with 2 Axes>"
      ]
     },
     "metadata": {
      "needs_background": "light"
     },
     "output_type": "display_data"
    }
   ],
   "source": [
    "corr = df_ml.corr()\n",
    "\n",
    "sns.heatmap(corr,\n",
    "        xticklabels=corr.columns,\n",
    "        yticklabels=corr.columns, \n",
    "        cmap=\"Blues\", \n",
    "        annot=True)"
   ]
  },
  {
   "attachments": {},
   "cell_type": "markdown",
   "metadata": {},
   "source": [
    "# Criação do algoritmo de machine learning\n",
    "\n",
    "Agora iremos tentar prever a situação cadastral que terá uma empresa de acordo com os atributos colocados acima"
   ]
  },
  {
   "cell_type": "code",
   "execution_count": 125,
   "metadata": {},
   "outputs": [],
   "source": [
    "#Criando uma lista de algoritmos para comparação e fazendo um split de dados de teste e treino\n",
    "\n",
    "x = df_ml.drop(columns=['Situação Cadastral'])\n",
    "y = df_ml['Situação Cadastral']\n",
    "\n",
    "x_train, x_test, y_train, y_test = train_test_split(x, y, test_size= 0.25, random_state = 0)"
   ]
  },
  {
   "cell_type": "code",
   "execution_count": 126,
   "metadata": {},
   "outputs": [
    {
     "name": "stdout",
     "output_type": "stream",
     "text": [
      "Melhor valor de n_neighbors:  9\n",
      "Melhor pontuação média:  0.8452812868037997\n"
     ]
    }
   ],
   "source": [
    "## Antes de testar os modelos, iremos aplicar alguns parâmetros baseado na análise dos melhor valores para os mesmos\n",
    "## Aqui, estamos vendo o melhor numero de vizinhos para o algoritmo KNeighborsClassifier\n",
    "\n",
    "# define o modelo\n",
    "knn = KNeighborsClassifier()\n",
    "\n",
    "# define os valores de n_neighbors a serem testados\n",
    "param_grid = {'n_neighbors': [1, 3, 5, 7, 9]}\n",
    "\n",
    "# realiza a pesquisa em grade\n",
    "grid_search = GridSearchCV(knn, param_grid, cv=5)\n",
    "grid_search.fit(x_train, y_train)\n",
    "\n",
    "# exibe o melhor valor de n_neighbors e a melhor pontuação média\n",
    "print(\"Melhor valor de n_neighbors: \", grid_search.best_params_['n_neighbors'])\n",
    "print(\"Melhor pontuação média: \", grid_search.best_score_)"
   ]
  },
  {
   "cell_type": "code",
   "execution_count": 127,
   "metadata": {},
   "outputs": [
    {
     "name": "stdout",
     "output_type": "stream",
     "text": [
      "0.16212212212212213 1000\n"
     ]
    }
   ],
   "source": [
    "## Agora iremos avaliar os parâmetros de melhor encaixe para os dados do algoritmo de Random Forest\n",
    "\n",
    "def get_mae(max_leaf_nodes, train_x, test_x, train_y, test_y):\n",
    "    tester = RandomForestClassifier(max_leaf_nodes=max_leaf_nodes, random_state=35)\n",
    "    tester.fit(x_train, y_train)\n",
    "    predict_mae = tester.predict(x_test)\n",
    "    mae = mean_absolute_error(y_test, predict_mae)\n",
    "    return mae\n",
    "\n",
    "candidates_max_nodes = [5, 10, 50, 100, 250, 500, 1000]\n",
    "\n",
    "error = 1e10\n",
    "for candidate in candidates_max_nodes:\n",
    "    erro_no_loop = get_mae(candidate, x_train, x_test, y_train, y_test)\n",
    "    \n",
    "    if erro_no_loop < error:\n",
    "        error = erro_no_loop\n",
    "        best_tree_size = error\n",
    "        \n",
    "print(best_tree_size, candidate)"
   ]
  },
  {
   "cell_type": "code",
   "execution_count": 128,
   "metadata": {},
   "outputs": [
    {
     "name": "stdout",
     "output_type": "stream",
     "text": [
      "0.16172172172172172 1000\n"
     ]
    }
   ],
   "source": [
    "## Agora iremos avaliar os parâmetros de melhor encaixe para os dados do algoritmo de Decision Tree Classifier\n",
    "\n",
    "def get_mae(max_leaf_nodes, train_x, test_x, train_y, test_y):\n",
    "    tester = DecisionTreeClassifier(max_leaf_nodes=max_leaf_nodes, random_state=35)\n",
    "    tester.fit(x_train, y_train)\n",
    "    predict_mae = tester.predict(x_test)\n",
    "    mae = mean_absolute_error(y_test, predict_mae)\n",
    "    return mae\n",
    "\n",
    "candidates_max_nodes = [5, 10, 50, 100, 250, 500, 1000]\n",
    "\n",
    "error = 1e10\n",
    "for candidate in candidates_max_nodes:\n",
    "    erro_no_loop = get_mae(candidate, x_train, x_test, y_train, y_test)\n",
    "    \n",
    "    if erro_no_loop < error:\n",
    "        error = erro_no_loop\n",
    "        best_tree_size = error\n",
    "        \n",
    "print(best_tree_size, candidate)"
   ]
  },
  {
   "cell_type": "code",
   "execution_count": 129,
   "metadata": {},
   "outputs": [
    {
     "name": "stderr",
     "output_type": "stream",
     "text": [
      "c:\\Users\\sergi\\AppData\\Local\\Programs\\Python\\Python39\\lib\\site-packages\\sklearn\\model_selection\\_split.py:700: UserWarning: The least populated class in y has only 5 members, which is less than n_splits=8.\n",
      "  warnings.warn(\n"
     ]
    },
    {
     "name": "stdout",
     "output_type": "stream",
     "text": [
      "GaussianNB() 0.1567167024399816\n"
     ]
    },
    {
     "name": "stderr",
     "output_type": "stream",
     "text": [
      "c:\\Users\\sergi\\AppData\\Local\\Programs\\Python\\Python39\\lib\\site-packages\\sklearn\\model_selection\\_split.py:700: UserWarning: The least populated class in y has only 5 members, which is less than n_splits=8.\n",
      "  warnings.warn(\n"
     ]
    },
    {
     "name": "stdout",
     "output_type": "stream",
     "text": [
      "DecisionTreeClassifier(max_leaf_nodes=1000, random_state=35) 0.8532932531603297\n"
     ]
    },
    {
     "name": "stderr",
     "output_type": "stream",
     "text": [
      "c:\\Users\\sergi\\AppData\\Local\\Programs\\Python\\Python39\\lib\\site-packages\\sklearn\\model_selection\\_split.py:700: UserWarning: The least populated class in y has only 5 members, which is less than n_splits=8.\n",
      "  warnings.warn(\n"
     ]
    },
    {
     "name": "stdout",
     "output_type": "stream",
     "text": [
      "SVC() 0.8421220930888911\n"
     ]
    },
    {
     "name": "stderr",
     "output_type": "stream",
     "text": [
      "c:\\Users\\sergi\\AppData\\Local\\Programs\\Python\\Python39\\lib\\site-packages\\sklearn\\model_selection\\_split.py:700: UserWarning: The least populated class in y has only 5 members, which is less than n_splits=8.\n",
      "  warnings.warn(\n"
     ]
    },
    {
     "name": "stdout",
     "output_type": "stream",
     "text": [
      "RandomForestClassifier(max_leaf_nodes=1000, random_state=35) 0.8533333044259497\n"
     ]
    },
    {
     "name": "stderr",
     "output_type": "stream",
     "text": [
      "c:\\Users\\sergi\\AppData\\Local\\Programs\\Python\\Python39\\lib\\site-packages\\sklearn\\model_selection\\_split.py:700: UserWarning: The least populated class in y has only 5 members, which is less than n_splits=8.\n",
      "  warnings.warn(\n"
     ]
    },
    {
     "name": "stdout",
     "output_type": "stream",
     "text": [
      "KNeighborsClassifier(n_neighbors=9) 0.8376780318525843\n"
     ]
    },
    {
     "name": "stderr",
     "output_type": "stream",
     "text": [
      "c:\\Users\\sergi\\AppData\\Local\\Programs\\Python\\Python39\\lib\\site-packages\\sklearn\\model_selection\\_split.py:700: UserWarning: The least populated class in y has only 5 members, which is less than n_splits=8.\n",
      "  warnings.warn(\n"
     ]
    },
    {
     "name": "stdout",
     "output_type": "stream",
     "text": [
      "XGBClassifier(base_score=None, booster=None, callbacks=None,\n",
      "              colsample_bylevel=None, colsample_bynode=None,\n",
      "              colsample_bytree=None, early_stopping_rounds=None,\n",
      "              enable_categorical=False, eval_metric=None, feature_types=None,\n",
      "              gamma=None, gpu_id=None, grow_policy=None, importance_type=None,\n",
      "              interaction_constraints=None, learning_rate=None, max_bin=None,\n",
      "              max_cat_threshold=None, max_cat_to_onehot=None,\n",
      "              max_delta_step=None, max_depth=None, max_leaves=None,\n",
      "              min_child_weight=None, missing=nan, monotone_constraints=None,\n",
      "              n_estimators=100, n_jobs=None, num_parallel_tree=None,\n",
      "              objective='multi:softprob', predictor=None, ...) 0.8537737144031228\n"
     ]
    }
   ],
   "source": [
    "# Com a validação cruzada podemos fazer um double check e verificar se os registros de acurácia se aplicam ao dataset todo\n",
    "\n",
    "lista_modelos = [GaussianNB(),\n",
    "                 DecisionTreeClassifier(random_state=35, max_leaf_nodes=1000),\n",
    "                 SVC(),\n",
    "                 RandomForestClassifier(n_estimators = 100, max_leaf_nodes=1000, random_state=35),\n",
    "                 KNeighborsClassifier(n_neighbors=9),\n",
    "                 XGBClassifier()\n",
    "                ]\n",
    "\n",
    "for modelo in lista_modelos:\n",
    "    modelo.fit(x_train, y_train)\n",
    "    val_res_clf = cross_val_score(modelo, x_test, y_test, cv=8)\n",
    "    print(modelo, val_res_clf.mean())"
   ]
  },
  {
   "cell_type": "code",
   "execution_count": 130,
   "metadata": {},
   "outputs": [],
   "source": [
    "# Previsões\n",
    "previsoes = []\n",
    "taxa_acerto = []\n",
    "for modelo in lista_modelos:\n",
    "    previsoes.append(modelo.predict(x_test))\n",
    "    taxa_acerto.append(accuracy_score(y_test, previsoes[-1]))"
   ]
  },
  {
   "attachments": {},
   "cell_type": "markdown",
   "metadata": {},
   "source": [
    "## Métricas de desempenho para os modelos utilizados:"
   ]
  },
  {
   "cell_type": "code",
   "execution_count": 131,
   "metadata": {},
   "outputs": [
    {
     "data": {
      "text/plain": [
       "([0, 1, 2, 3, 4, 5],\n",
       " [Text(0, 0, ''),\n",
       "  Text(0, 0, ''),\n",
       "  Text(0, 0, ''),\n",
       "  Text(0, 0, ''),\n",
       "  Text(0, 0, ''),\n",
       "  Text(0, 0, '')])"
      ]
     },
     "execution_count": 131,
     "metadata": {},
     "output_type": "execute_result"
    },
    {
     "data": {
      "image/png": "[encoded data removed]",
      "text/plain": [
       "<Figure size 432x288 with 1 Axes>"
      ]
     },
     "metadata": {
      "needs_background": "light"
     },
     "output_type": "display_data"
    }
   ],
   "source": [
    "models = [\"NaiveBayes\", \"Árvores de Decisão\", \"SVC\", \"RandomForest\", \"KNN\",\"XGBoost\"]\n",
    "df_res = pd.DataFrame({\"Modelos\":models, \"TxAcerto\":taxa_acerto})\n",
    "df_res = df_res.set_index(\"Modelos\")\n",
    "grafico = df_res.TxAcerto.sort_values(ascending=False)\n",
    "\n",
    "fig, ax = plt.subplots()\n",
    "\n",
    "bars = ax.bar(models, grafico)\n",
    "ax.bar_label(bars)\n",
    "\n",
    "plt.xticks(rotation=45)"
   ]
  },
  {
   "attachments": {},
   "cell_type": "markdown",
   "metadata": {},
   "source": [
    "## Definindo o algoritmo\n",
    "\n",
    "Como o algoritmo de melhor acerto foi o de Arvore de Decisão (veja a Cross Validation junto ao score apresentado no gráfico acima), ele será transportado para ser feito o deploy\n",
    "\n",
    "Faremos também um detalhamento sobre o modelo, trazendo a média de validação sobre cross validation\n"
   ]
  },
  {
   "cell_type": "code",
   "execution_count": 132,
   "metadata": {},
   "outputs": [],
   "source": [
    "Dtree = DecisionTreeClassifier(random_state=35, max_leaf_nodes=1000).fit(x_train, y_train)"
   ]
  },
  {
   "cell_type": "code",
   "execution_count": 133,
   "metadata": {},
   "outputs": [
    {
     "data": {
      "text/plain": [
       "<AxesSubplot:>"
      ]
     },
     "execution_count": 133,
     "metadata": {},
     "output_type": "execute_result"
    },
    {
     "data": {
      "image/png": "[encoded data removed]",
      "text/plain": [
       "<Figure size 432x288 with 1 Axes>"
      ]
     },
     "metadata": {
      "needs_background": "light"
     },
     "output_type": "display_data"
    }
   ],
   "source": [
    "feat_importances = pd.Series(Dtree.feature_importances_, index=x_train.columns)\n",
    "feat_importances.nlargest(20).plot(kind='barh')"
   ]
  },
  {
   "cell_type": "code",
   "execution_count": 134,
   "metadata": {},
   "outputs": [],
   "source": [
    "# salvando o modelo para o deploy em produção\n",
    "\n",
    "pickle.dump(Dtree, open(pathlib.Path.cwd() / 'clf_pji4.pkl', 'wb'))"
   ]
  }
 ],
 "metadata": {
  "kernelspec": {
   "display_name": "Python 3",
   "language": "python",
   "name": "python3"
  },
  "language_info": {
   "codemirror_mode": {
    "name": "ipython",
    "version": 3
   },
   "file_extension": ".py",
   "mimetype": "text/x-python",
   "name": "python",
   "nbconvert_exporter": "python",
   "pygments_lexer": "ipython3",
   "version": "3.9.7"
  },
  "orig_nbformat": 4,
  "vscode": {
   "interpreter": {
    "hash": "27b2090550f3cccc1560abb4e45fee0d0fcc48c8b373720b97ea404413d1d838"
   }
  }
 },
 "nbformat": 4,
 "nbformat_minor": 2
}
